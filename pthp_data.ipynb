{
 "cells": [
  {
   "cell_type": "markdown",
   "metadata": {},
   "source": [
    "# Predicting the house price\n",
    "\n",
    "This project aims to build a reliable predictor for house prices, based on the kaggle competition:\n",
    "\n",
    "https://www.kaggle.com/c/predict-the-housing-price\n",
    "\n",
    "In this notebook the data is imported and preprocessed. The neighbourhood information is used to calculate the distance from the town centre, the data is cleaned and non numerical variables are transformed either through encoding or the creation of dummy variables."
   ]
  },
  {
   "cell_type": "code",
   "execution_count": 1,
   "metadata": {},
   "outputs": [],
   "source": [
    "import pandas as pd\n",
    "import numpy as np\n",
    "import matplotlib.pyplot as plt\n",
    "#from pandas_profiling import ProfileReport\n",
    "from geopy.geocoders import Nominatim\n",
    "\n",
    "%matplotlib inline"
   ]
  },
  {
   "cell_type": "code",
   "execution_count": 2,
   "metadata": {},
   "outputs": [],
   "source": [
    "php_data= pd.read_csv('data/train.csv')"
   ]
  },
  {
   "cell_type": "code",
   "execution_count": 3,
   "metadata": {},
   "outputs": [
    {
     "data": {
      "text/plain": [
       "(1021, 81)"
      ]
     },
     "execution_count": 3,
     "metadata": {},
     "output_type": "execute_result"
    }
   ],
   "source": [
    "php_data.shape"
   ]
  },
  {
   "cell_type": "code",
   "execution_count": 22,
   "metadata": {},
   "outputs": [
    {
     "data": {
      "text/plain": [
       "array([dtype('int64'), dtype('O'), dtype('float64')], dtype=object)"
      ]
     },
     "execution_count": 22,
     "metadata": {},
     "output_type": "execute_result"
    }
   ],
   "source": [
    "php_data.dtypes.unique()"
   ]
  },
  {
   "cell_type": "code",
   "execution_count": 13,
   "metadata": {},
   "outputs": [
    {
     "data": {
      "text/plain": [
       "(1021, 36)"
      ]
     },
     "execution_count": 13,
     "metadata": {},
     "output_type": "execute_result"
    }
   ],
   "source": [
    "php_data_copy = php_data.copy()\n",
    "php_data_copy =php_data_copy.drop(['Id','SalePrice'],axis=1)\n",
    "php_data_copy.select_dtypes(include=['float', 'int','float64', 'int64']).shape"
   ]
  },
  {
   "cell_type": "code",
   "execution_count": 23,
   "metadata": {},
   "outputs": [
    {
     "data": {
      "text/plain": [
       "(1021, 43)"
      ]
     },
     "execution_count": 23,
     "metadata": {},
     "output_type": "execute_result"
    }
   ],
   "source": [
    "php_data_copy = php_data.copy()\n",
    "php_data_copy =php_data_copy.drop(['Id','SalePrice'],axis=1)\n",
    "php_data_copy.select_dtypes(include=['O']).shape"
   ]
  },
  {
   "cell_type": "markdown",
   "metadata": {},
   "source": [
    "Of the 79 explanatory variables, 36 are numerical (both categorical and qualtitative) and 43 are non-numerical."
   ]
  },
  {
   "cell_type": "markdown",
   "metadata": {},
   "source": [
    "## Data preparation\n",
    "\n",
    "The data provided is numerical and categorical, and some fields probably need dummy variables. A complete explanation of the data fields is available on the dataset page on Kaggle, and I am providing a short description on  how I plan to make it suited for modeling. \n",
    "\n",
    "Note that I am making dummy variables manually since test and train data are separated and I have to assume that they are to be kept separated, hence dummy variables might be different if generated automatically, since not all values for each variable might be represented in both train and test datasets.\n",
    "\n",
    "The _neighborhood_ field gives geographical information regarding the house, in the form of it belonging to a particular neighbourhood in Ames. My strategy to make use of this information is to use convert it into distance between teh neighbourhood and the town centre. Note that in doing this I put particular value in the town centre as a point of interest, and for other/bigger cities multiple points of interest might be considered (stadiums, museums, parks, etc.)\n",
    "\n",
    "After data preparation, feature engineering and dimensionality reduction are explained in the feature engineering notebook.\n"
   ]
  },
  {
   "cell_type": "markdown",
   "metadata": {},
   "source": [
    "# NOTE - Go to checkpoint if already possessing the file with the geographical information\n",
    "### Getting neighbourhoods coordinates, and distance from the centre\n",
    "\n",
    "In the following cells I use the geopy package to collect the coordinates of Ames neighbourhoods. Unfortunately, the _neighborhood_ field is completed with abbreviations of the name, and it is unusable as it is.\n",
    "\n",
    "To make things easier I stored the values of _neighborhood_ in a csv file and for each one I copied the full name of the neighbourhood, or a name that gets recognised by the geolocator function for that neighbourhood. This is obviously an _ad hoc_ solution that works for this town and would have to be done anew for another town. The alternative is to drop the variable."
   ]
  },
  {
   "cell_type": "code",
   "execution_count": 154,
   "metadata": {},
   "outputs": [],
   "source": [
    "Neighborhood = pd.read_csv('data/Ames_neighborhoods.csv',names=['Code','Full_name'])\n",
    "\n",
    "geolocator = Nominatim()\n",
    "Ames_coordinates={}\n",
    "for loc in Neighborhood.Full_name:\n",
    "    if loc not in Ames_coordinates.keys():\n",
    "        try:\n",
    "            location = geolocator.geocode(loc +\" ,Ames,Iowa\")\n",
    "            print(loc)\n",
    "            print(location.address)\n",
    "        except AttributeError: \n",
    "            location = geolocator.geocode(loc +\" ,Iowa\")\n",
    "            print(loc)\n",
    "            print(location.address)\n",
    "        #print((location.latitude, location.longitude))\n",
    "        except timeout:\n",
    "            break\n",
    "        except NameError:\n",
    "            break\n",
    "        Ames_coordinates[loc]=[location.latitude, location.longitude]"
   ]
  },
  {
   "cell_type": "markdown",
   "metadata": {},
   "source": [
    "Cycle multiple times if time out errors arise. At the end of it, I have built a dictionary with the neighbourhoods coordinates."
   ]
  },
  {
   "cell_type": "code",
   "execution_count": 175,
   "metadata": {},
   "outputs": [
    {
     "data": {
      "text/html": [
       "<div>\n",
       "<style scoped>\n",
       "    .dataframe tbody tr th:only-of-type {\n",
       "        vertical-align: middle;\n",
       "    }\n",
       "\n",
       "    .dataframe tbody tr th {\n",
       "        vertical-align: top;\n",
       "    }\n",
       "\n",
       "    .dataframe thead th {\n",
       "        text-align: right;\n",
       "    }\n",
       "</style>\n",
       "<table border=\"1\" class=\"dataframe\">\n",
       "  <thead>\n",
       "    <tr style=\"text-align: right;\">\n",
       "      <th></th>\n",
       "      <th>Code</th>\n",
       "      <th>Full_name</th>\n",
       "      <th>Latitude</th>\n",
       "      <th>Longitude</th>\n",
       "    </tr>\n",
       "  </thead>\n",
       "  <tbody>\n",
       "    <tr>\n",
       "      <th>0</th>\n",
       "      <td>Blmngtn</td>\n",
       "      <td>Bloomington</td>\n",
       "      <td>42.055627</td>\n",
       "      <td>-93.619566</td>\n",
       "    </tr>\n",
       "    <tr>\n",
       "      <th>1</th>\n",
       "      <td>Blueste</td>\n",
       "      <td>Bluestem</td>\n",
       "      <td>42.011170</td>\n",
       "      <td>-93.645063</td>\n",
       "    </tr>\n",
       "    <tr>\n",
       "      <th>2</th>\n",
       "      <td>BrDale</td>\n",
       "      <td>Truman Place</td>\n",
       "      <td>42.052547</td>\n",
       "      <td>-93.628226</td>\n",
       "    </tr>\n",
       "    <tr>\n",
       "      <th>3</th>\n",
       "      <td>BrkSide</td>\n",
       "      <td>Brookside</td>\n",
       "      <td>42.026770</td>\n",
       "      <td>-93.617055</td>\n",
       "    </tr>\n",
       "    <tr>\n",
       "      <th>4</th>\n",
       "      <td>ClearCr</td>\n",
       "      <td>Clear Creek</td>\n",
       "      <td>41.994591</td>\n",
       "      <td>-93.261668</td>\n",
       "    </tr>\n",
       "  </tbody>\n",
       "</table>\n",
       "</div>"
      ],
      "text/plain": [
       "      Code     Full_name   Latitude  Longitude\n",
       "0  Blmngtn   Bloomington  42.055627 -93.619566\n",
       "1  Blueste      Bluestem  42.011170 -93.645063\n",
       "2   BrDale  Truman Place  42.052547 -93.628226\n",
       "3  BrkSide     Brookside  42.026770 -93.617055\n",
       "4  ClearCr   Clear Creek  41.994591 -93.261668"
      ]
     },
     "execution_count": 175,
     "metadata": {},
     "output_type": "execute_result"
    }
   ],
   "source": [
    "for i in range(len(Neighborhood.Full_name)):\n",
    "    Neighborhood.loc[i,'Latitude'] = Ames_coordinates[Neighborhood.loc[i,'Full_name']][0]\n",
    "    Neighborhood.loc[i,'Longitude'] = Ames_coordinates[Neighborhood.loc[i,'Full_name']][1]\n",
    "Neighborhood.head()"
   ]
  },
  {
   "cell_type": "code",
   "execution_count": 163,
   "metadata": {},
   "outputs": [
    {
     "data": {
      "text/plain": [
       "42.0379557"
      ]
     },
     "execution_count": 163,
     "metadata": {},
     "output_type": "execute_result"
    }
   ],
   "source": [
    "Neighborhood.iloc[0].Latitude"
   ]
  },
  {
   "cell_type": "code",
   "execution_count": 176,
   "metadata": {},
   "outputs": [],
   "source": [
    "Ames_centre=[42.026309, -93.617379]"
   ]
  },
  {
   "cell_type": "markdown",
   "metadata": {},
   "source": [
    "In the next cell there's a function that calculated linear distance between saptial coordinates.\n",
    "\n",
    "Reference: https://colab.research.google.com/drive/1hHIBZIms7iotpWSZDMdO_DMMBVfdzrXC"
   ]
  },
  {
   "cell_type": "code",
   "execution_count": 177,
   "metadata": {},
   "outputs": [],
   "source": [
    "\n",
    "from math import radians, cos, sin, asin, sqrt\n",
    "\n",
    "def haversine(lon1, lat1, lon2, lat2):\n",
    "    \"\"\"\n",
    "    Calculate the great circle distance between two points \n",
    "    on the earth (specified in decimal degrees)\n",
    "    \"\"\"\n",
    "    # convert decimal degrees to radians \n",
    "    lon1, lat1, lon2, lat2 = map(radians, [lon1, lat1, lon2, lat2])\n",
    "    # haversine formula \n",
    "    dlon = lon2 - lon1 \n",
    "    dlat = lat2 - lat1 \n",
    "    a = sin(dlat/2)**2 + cos(lat1) * cos(lat2) * sin(dlon/2)**2\n",
    "    c = 2 * asin(sqrt(a)) \n",
    "    km = 6367 * c\n",
    "    return km"
   ]
  },
  {
   "cell_type": "code",
   "execution_count": 178,
   "metadata": {},
   "outputs": [],
   "source": [
    "for i in range(len(Neighborhood.Full_name)):\n",
    "    dist = haversine(Ames_centre[1], Ames_centre[0], Neighborhood.iloc[i].Longitude, Neighborhood.iloc[i].Latitude)\n",
    "    Neighborhood.loc[i,'Distance_from_centre'] = dist"
   ]
  },
  {
   "cell_type": "markdown",
   "metadata": {},
   "source": [
    "### Save Neighbourhoods information"
   ]
  },
  {
   "cell_type": "code",
   "execution_count": 194,
   "metadata": {},
   "outputs": [
    {
     "data": {
      "text/html": [
       "<div>\n",
       "<style scoped>\n",
       "    .dataframe tbody tr th:only-of-type {\n",
       "        vertical-align: middle;\n",
       "    }\n",
       "\n",
       "    .dataframe tbody tr th {\n",
       "        vertical-align: top;\n",
       "    }\n",
       "\n",
       "    .dataframe thead th {\n",
       "        text-align: right;\n",
       "    }\n",
       "</style>\n",
       "<table border=\"1\" class=\"dataframe\">\n",
       "  <thead>\n",
       "    <tr style=\"text-align: right;\">\n",
       "      <th></th>\n",
       "      <th>Code</th>\n",
       "      <th>Full_name</th>\n",
       "      <th>Latitude</th>\n",
       "      <th>Longitude</th>\n",
       "      <th>Distance_from_centre</th>\n",
       "    </tr>\n",
       "  </thead>\n",
       "  <tbody>\n",
       "    <tr>\n",
       "      <th>0</th>\n",
       "      <td>Blmngtn</td>\n",
       "      <td>Bloomington</td>\n",
       "      <td>42.055627</td>\n",
       "      <td>-93.619566</td>\n",
       "      <td>3.262962</td>\n",
       "    </tr>\n",
       "    <tr>\n",
       "      <th>1</th>\n",
       "      <td>Blueste</td>\n",
       "      <td>Bluestem</td>\n",
       "      <td>42.011170</td>\n",
       "      <td>-93.645063</td>\n",
       "      <td>2.837899</td>\n",
       "    </tr>\n",
       "    <tr>\n",
       "      <th>2</th>\n",
       "      <td>BrDale</td>\n",
       "      <td>Truman Place</td>\n",
       "      <td>42.052547</td>\n",
       "      <td>-93.628226</td>\n",
       "      <td>3.050035</td>\n",
       "    </tr>\n",
       "    <tr>\n",
       "      <th>3</th>\n",
       "      <td>BrkSide</td>\n",
       "      <td>Brookside</td>\n",
       "      <td>42.026770</td>\n",
       "      <td>-93.617055</td>\n",
       "      <td>0.057804</td>\n",
       "    </tr>\n",
       "    <tr>\n",
       "      <th>4</th>\n",
       "      <td>ClearCr</td>\n",
       "      <td>Clear Creek</td>\n",
       "      <td>41.994591</td>\n",
       "      <td>-93.261668</td>\n",
       "      <td>29.581234</td>\n",
       "    </tr>\n",
       "  </tbody>\n",
       "</table>\n",
       "</div>"
      ],
      "text/plain": [
       "      Code     Full_name   Latitude  Longitude  Distance_from_centre\n",
       "0  Blmngtn   Bloomington  42.055627 -93.619566              3.262962\n",
       "1  Blueste      Bluestem  42.011170 -93.645063              2.837899\n",
       "2   BrDale  Truman Place  42.052547 -93.628226              3.050035\n",
       "3  BrkSide     Brookside  42.026770 -93.617055              0.057804\n",
       "4  ClearCr   Clear Creek  41.994591 -93.261668             29.581234"
      ]
     },
     "execution_count": 194,
     "metadata": {},
     "output_type": "execute_result"
    }
   ],
   "source": [
    "Neighborhood.to_csv('data/Neighborhood.coordinates.csv')\n",
    "Neighborhood.head()"
   ]
  },
  {
   "cell_type": "markdown",
   "metadata": {},
   "source": [
    "# CHECKPOINT\n",
    "### Load Neighbourhoods information"
   ]
  },
  {
   "cell_type": "code",
   "execution_count": 5,
   "metadata": {},
   "outputs": [
    {
     "data": {
      "text/html": [
       "<div>\n",
       "<style scoped>\n",
       "    .dataframe tbody tr th:only-of-type {\n",
       "        vertical-align: middle;\n",
       "    }\n",
       "\n",
       "    .dataframe tbody tr th {\n",
       "        vertical-align: top;\n",
       "    }\n",
       "\n",
       "    .dataframe thead th {\n",
       "        text-align: right;\n",
       "    }\n",
       "</style>\n",
       "<table border=\"1\" class=\"dataframe\">\n",
       "  <thead>\n",
       "    <tr style=\"text-align: right;\">\n",
       "      <th></th>\n",
       "      <th>Code</th>\n",
       "      <th>Full_name</th>\n",
       "      <th>Latitude</th>\n",
       "      <th>Longitude</th>\n",
       "      <th>Distance_from_centre</th>\n",
       "    </tr>\n",
       "  </thead>\n",
       "  <tbody>\n",
       "    <tr>\n",
       "      <th>0</th>\n",
       "      <td>Blmngtn</td>\n",
       "      <td>Bloomington</td>\n",
       "      <td>42.055627</td>\n",
       "      <td>-93.619566</td>\n",
       "      <td>3.262962</td>\n",
       "    </tr>\n",
       "    <tr>\n",
       "      <th>1</th>\n",
       "      <td>Blueste</td>\n",
       "      <td>Bluestem</td>\n",
       "      <td>42.011170</td>\n",
       "      <td>-93.645063</td>\n",
       "      <td>2.837899</td>\n",
       "    </tr>\n",
       "    <tr>\n",
       "      <th>2</th>\n",
       "      <td>BrDale</td>\n",
       "      <td>Truman Place</td>\n",
       "      <td>42.052547</td>\n",
       "      <td>-93.628226</td>\n",
       "      <td>3.050035</td>\n",
       "    </tr>\n",
       "    <tr>\n",
       "      <th>3</th>\n",
       "      <td>BrkSide</td>\n",
       "      <td>Brookside</td>\n",
       "      <td>42.026770</td>\n",
       "      <td>-93.617055</td>\n",
       "      <td>0.057804</td>\n",
       "    </tr>\n",
       "    <tr>\n",
       "      <th>4</th>\n",
       "      <td>ClearCr</td>\n",
       "      <td>Clear Creek</td>\n",
       "      <td>41.994591</td>\n",
       "      <td>-93.261668</td>\n",
       "      <td>29.581234</td>\n",
       "    </tr>\n",
       "  </tbody>\n",
       "</table>\n",
       "</div>"
      ],
      "text/plain": [
       "      Code     Full_name   Latitude  Longitude  Distance_from_centre\n",
       "0  Blmngtn   Bloomington  42.055627 -93.619566              3.262962\n",
       "1  Blueste      Bluestem  42.011170 -93.645063              2.837899\n",
       "2   BrDale  Truman Place  42.052547 -93.628226              3.050035\n",
       "3  BrkSide     Brookside  42.026770 -93.617055              0.057804\n",
       "4  ClearCr   Clear Creek  41.994591 -93.261668             29.581234"
      ]
     },
     "execution_count": 5,
     "metadata": {},
     "output_type": "execute_result"
    }
   ],
   "source": [
    "Neighborhood = pd.read_csv('data/Neighborhood.coordinates.csv')\n",
    "Neighborhood=Neighborhood.drop('Unnamed: 0',axis=1)\n",
    "Neighborhood.head()"
   ]
  },
  {
   "cell_type": "markdown",
   "metadata": {},
   "source": [
    "### Data cleaning and dummy variables\n",
    "Dummy variables are translated into quantitative features, trying to maintain some meaning into the encoding. See the data exploration notebook to see how some variables scale with target.\n",
    "Notes:\n",
    "- Condition1 and Condition2 elements are either considered negative (-1 value), normal i.e. neutral (0) or positive (1), according to the description provided;\n",
    "- similar considerations regarding building type;\n",
    "- As regards the year of construction and remodeling, I opted to convert them into the age of the house, or of the remodeling; \n",
    "- Roofstyle: tentative numbering proportional to complexity;\n",
    "- RoofMatl: similar, plus costing information is taken into consideration;\n",
    "- MoSold: the month of sale information is removed, as secondary to the year of sale;\n",
    "- SaleType: from data exploration, it doesn't look like this field has a large impact, except for the value \"New\", which has a higher average. I will then create a variable \"New\" with values 0,1;\n",
    "- Condition of sale: this filed lists a series of circumstances that can have a big influence on the sale price. I am creating dummy variables in order to retain all the information."
   ]
  },
  {
   "cell_type": "code",
   "execution_count": 6,
   "metadata": {},
   "outputs": [],
   "source": [
    "MSZoning = {'A':1,'C':2,'C (all)':2,'FV':3,'I':4,'RH':5,'RL':6,'RP':7,'RM':8}\n",
    "Street = {'Grvl':1,'Pave':2,'unknown':0}\n",
    "LotShape= {'Reg':0,'IR1':1,'IR2':2,'IR3':3}\n",
    "LandContour={'Lvl':0,'Bnk':1,'HLS':2,'Low':3}\n",
    "Utilities = {'AllPub':0,'NoSewr':1,'NoSeWa':2,'ELO':3}\n",
    "LotConfig= {'Inside':0,'Corner':1,'CulDSac':2,'FR2':3,'FR3':4}\n",
    "LandSlope ={'Gtl':0,'Mod':1,'Sev':2}\n",
    "Condition = {'PosN':1,'PosA':1,'Norm':0,'Artery':-1,'Feedr':-1,'RRNn':-1,'RRAn':-1,'RRNe':-1,'RRAe':-1}\n",
    "BldgType ={'Twnhs':0,'TwnhsI':0,'TwnhsE':1,'Duplex':2,'2fmCon':3,'1Fam':4}\n",
    "\n",
    "HouseStyle ={'SLvl':4,'1Story':6,'1.5Fin':3,'1.5Unf':1.5,'SFoyer':2,'2Story':7,'2.5Fin':8,'2.5Unf':7.5}\n",
    "RoofStyle={'Flat':4,'Shed':0,'Gable':2,'Hip':5,'Gambrel':1,'Mansard':3}\n",
    "RoofMatl = {'Membran':5,'Tar&Grv':1,'WdShake':4,'WdShngl':6,'Metal':2,'ClyTile':0,'CompShg':3,'Roll':-1}\n",
    "Exterior1st={'CBlock':0,'Other':0,'PreCast':0,'Stone':0,'BrkComm':1,'Brk Cmn':1,'AsphShn':2,'AsbShng':3,'ImStucc':4,'Stucco':4,'Wd Sdng':5,'MetalSd':6,'HdBoard':7,'Wd Shng':8,'WdShing':8,'Plywood':9,'BrkFace':10,'VinylSd':11,'CemntBd':12,'CmentBd':12}\n",
    "MasVnrType={'BrkCmn':1,'BrkFace':3,'CBlock':0,'None':2,'Stone':4}\n",
    "ExterQual={'Fa':2,'Gd':4,'Po':1,'TA':3,'Ex':5}\n",
    "Foundation={'BrkTil':2,'CBlock':4,'Slab':1,'Wood':3,'Stone':5,'PConc':6}\n",
    "BsmtQC={'Po':1,'TA':3,'NA':0,'Fa':2,'Gd':4,'Ex':5}\n",
    "BsmtExposure={'No':1,'Av':3,'NA':0,'Mn':2,'Gd':4}\n",
    "BsmtFinType1 ={'NA':0,'Unf':1,'LwQ':2,'Rec':3,'BLQ':4,'ALQ':5,'GLQ':6}\n",
    "Heating ={'Floor':0,'Grav':1,'Wall':2,'GasW':3,'GasA':4,'OthW':0}\n",
    "HeatingQC ={'Po':1,'Fa':2,'TA':3,'Gd':4,'Ex':5}\n",
    "CentralAir={'Y':1,'N':0}\n",
    "Electrical={'Mix':1,'FuseP':2,'FuseF':3,'FuseA':4,'SBrkr':5,'NA':0}\n",
    "KitchenQual={'Po':1,'Fa':2,'TA':3,'Gd':4,'Ex':5}\n",
    "Functional= {'Typ':0,'Min1':1,'Min2':2,'Mod':3,'Maj1':4,'Maj2':5,'Sev':6,'Sal':7}\n",
    "FireplaceQu= {'NA':0,'Po':1,'Fa':2,'TA':3,'Gd':4,'Ex':5}\n",
    "GarageType = {'NA':0,'CarPort':1,'Detchd':2,'2Types':3,'Basment':4,'Attchd':5,'BuiltIn':6}\n",
    "GarageFinish = {'NA':0,'Unf':1,'RFn':2,'Fin':3}\n",
    "GarageQual= {'NA':0,'Po':1,'Fa':2,'TA':3,'Gd':4,'Ex':5}\n",
    "PavedDrive={'N':0,'P':1,'Y':2}\n",
    "PoolQC= {'NA':0,'Fa':1,'TA':2,'Gd':3,'Ex':4}\n",
    "Fence= {'NA':0,'MnWw':1,'GdWo':2,'MnPrv':3,'GdPrv':4}"
   ]
  },
  {
   "cell_type": "code",
   "execution_count": null,
   "metadata": {},
   "outputs": [],
   "source": [
    "data=php_data.copy()\n",
    "data=data.drop('Id',axis=1)\n",
    "\n",
    "data['MSZoning']=data['MSZoning'].apply(lambda x: MSZoning[x])\n",
    "data.LotFrontage=data.LotFrontage.fillna(0)\n",
    "data['Street']=data['Street'].apply(lambda x: Street[x])\n",
    "data.Alley=data.Alley.fillna('unknown')\n",
    "data['Alley']=data['Alley'].apply(lambda x: Street[x])\n",
    "data['LotShape']=data['LotShape'].apply(lambda x: LotShape[x])\n",
    "data['LandContour']=data['LandContour'].apply(lambda x: LandContour[x])\n",
    "data['Utilities']=data['Utilities'].apply(lambda x: Utilities[x])\n",
    "data['LotConfig']=data['LotConfig'].apply(lambda x: LotConfig[x])\n",
    "data['LandSlope']=data['LandSlope'].apply(lambda x: LandSlope[x])\n",
    "for ii in range(len(data['Neighborhood'])):\n",
    "    data.loc[ii,'Distance_from_centre']=float(Neighborhood[Neighborhood.Code==data.loc[ii]['Neighborhood']]['Distance_from_centre'])\n",
    "data['Condition1']=data['Condition1'].apply(lambda x: Condition[x])\n",
    "data['Condition2']=data['Condition2'].apply(lambda x: Condition[x])\n",
    "data['BldgType']=data['BldgType'].apply(lambda x: BldgType[x])\n",
    "data['HouseStyle']=data['HouseStyle'].apply(lambda x: HouseStyle[x])\n",
    "data['YearBuilt']=data['YearBuilt'].apply(lambda x: 2020-x)\n",
    "data['YearRemodAdd']=data['YearRemodAdd'].apply(lambda x: 2020-x)\n",
    "data['RoofStyle']=data['RoofStyle'].apply(lambda x: RoofStyle[x])\n",
    "data['RoofMatl']=data['RoofMatl'].apply(lambda x: RoofMatl[x])\n",
    "data['Exterior1st']=data['Exterior1st'].apply(lambda x: Exterior1st[x])\n",
    "data['Exterior2nd']=data['Exterior2nd'].apply(lambda x: Exterior1st[x])\n",
    "data.MasVnrType=data.MasVnrType.fillna('None')\n",
    "data['MasVnrType']=data['MasVnrType'].apply(lambda x: MasVnrType[x])\n",
    "data['ExterQual']=data['ExterQual'].apply(lambda x: ExterQual[x])\n",
    "data['ExterCond']=data['ExterCond'].apply(lambda x: ExterQual[x])\n",
    "data['Foundation']=data['Foundation'].apply(lambda x: Foundation[x])\n",
    "data.BsmtQual=data.BsmtQual.fillna('NA')\n",
    "data['BsmtQual']=data['BsmtQual'].apply(lambda x: BsmtQC[x])\n",
    "data.BsmtCond=data.BsmtCond.fillna('NA')\n",
    "data['BsmtCond']=data['BsmtCond'].apply(lambda x: BsmtQC[x])\n",
    "data.BsmtExposure=data.BsmtExposure.fillna('NA')\n",
    "data['BsmtExposure']=data['BsmtExposure'].apply(lambda x: BsmtExposure[x])\n",
    "data.BsmtFinType1=data.BsmtFinType1.fillna('NA')\n",
    "data['BsmtFinType1']=data['BsmtFinType1'].apply(lambda x: BsmtFinType1[x])\n",
    "data.BsmtFinType2=data.BsmtFinType2.fillna('NA')\n",
    "data['BsmtFinType2']=data['BsmtFinType2'].apply(lambda x: BsmtFinType1[x])\n",
    "data['Heating']=data['Heating'].apply(lambda x: Heating[x])\n",
    "data['HeatingQC']=data['HeatingQC'].apply(lambda x: HeatingQC[x])\n",
    "data['CentralAir']=data['CentralAir'].apply(lambda x: CentralAir[x])\n",
    "data['Electrical']=data['Electrical'].apply(lambda x: Electrical[x])\n",
    "data['KitchenQual']=data['KitchenQual'].apply(lambda x: KitchenQual[x])\n",
    "data['Functional']=data['Functional'].apply(lambda x: Functional[x])\n",
    "data.FireplaceQu=data.FireplaceQu.fillna('NA')\n",
    "data['FireplaceQu']=data['FireplaceQu'].apply(lambda x: FireplaceQu[x])\n",
    "data.GarageType=data.GarageType.fillna('NA')\n",
    "data['GarageType']=data['GarageType'].apply(lambda x: GarageType[x])\n",
    "data['GarageYrBlt']=data['GarageYrBlt'].apply(lambda x: 2020-x)\n",
    "data.GarageFinish=data.GarageFinish.fillna('NA')\n",
    "data['GarageFinish']=data['GarageFinish'].apply(lambda x: GarageFinish[x])\n",
    "data.GarageQual=data.GarageQual.fillna('NA')\n",
    "data['GarageQual']=data['GarageQual'].apply(lambda x: GarageQual[x])\n",
    "data.GarageCond=data.GarageCond.fillna('NA')\n",
    "data['GarageCond']=data['GarageCond'].apply(lambda x: GarageQual[x])\n",
    "data['PavedDrive']=data['PavedDrive'].apply(lambda x: PavedDrive[x])\n",
    "data.PoolQC=data.PoolQC.fillna('NA')\n",
    "data['PoolQC']=data['PoolQC'].apply(lambda x: PoolQC[x])\n",
    "data.Fence=data.Fence.fillna('NA')\n",
    "data['Fence']=data['Fence'].apply(lambda x: Fence[x])\n",
    "MiscFeature = pd.get_dummies(data['MiscFeature'])\n",
    "data = pd.concat([data,MiscFeature],axis=1)\n",
    "data=data.drop('MiscFeature',axis=1)\n",
    "data=data.drop('MoSold',axis=1)\n",
    "data['YrSold']=data['YrSold'].apply(lambda x: 2020-x)\n",
    "#data['New']=data['SaleType'].apply(lambda x: if x=='New': 1 else: 0)\n",
    "data.loc[data['SaleType']=='New','New']=1\n",
    "data.New=data.New.fillna(0)\n",
    "data=data.drop('SaleType',axis=1)\n",
    "SaleCondition= pd.get_dummies(data['SaleCondition'])\n",
    "data = pd.concat([data,SaleCondition],axis=1)\n",
    "data=data.drop('SaleCondition',axis=1)\n",
    "\n",
    "\n",
    "#data.loc[0:50,'PoolQC':]"
   ]
  },
  {
   "cell_type": "markdown",
   "metadata": {},
   "source": [
    "### Function that performs the same transformations"
   ]
  },
  {
   "cell_type": "code",
   "execution_count": 8,
   "metadata": {},
   "outputs": [],
   "source": [
    "def p_h_p_data_handling(data):\n",
    "    data['MSZoning']=data['MSZoning'].apply(lambda x: MSZoning[x])\n",
    "    data.LotFrontage=data.LotFrontage.fillna(0)\n",
    "    data['Street']=data['Street'].apply(lambda x: Street[x])\n",
    "    data.Alley=data.Alley.fillna('unknown')\n",
    "    data['Alley']=data['Alley'].apply(lambda x: Street[x])\n",
    "    data['LotShape']=data['LotShape'].apply(lambda x: LotShape[x])\n",
    "    data['LandContour']=data['LandContour'].apply(lambda x: LandContour[x])\n",
    "    data['Utilities']=data['Utilities'].apply(lambda x: Utilities[x])\n",
    "    data['LotConfig']=data['LotConfig'].apply(lambda x: LotConfig[x])\n",
    "    data['LandSlope']=data['LandSlope'].apply(lambda x: LandSlope[x])\n",
    "    for ii in range(len(data['Neighborhood'])):\n",
    "        data.loc[ii,'Distance_from_centre']=float(Neighborhood[Neighborhood.Code==data.loc[ii]['Neighborhood']]['Distance_from_centre'])\n",
    "    data['Condition1']=data['Condition1'].apply(lambda x: Condition[x])\n",
    "    data['Condition2']=data['Condition2'].apply(lambda x: Condition[x])\n",
    "    data['BldgType']=data['BldgType'].apply(lambda x: BldgType[x])\n",
    "    data['HouseStyle']=data['HouseStyle'].apply(lambda x: HouseStyle[x])\n",
    "    data['YearBuilt']=data['YearBuilt'].apply(lambda x: 2020-x)\n",
    "    data['YearRemodAdd']=data['YearRemodAdd'].apply(lambda x: 2020-x)\n",
    "    data['RoofStyle']=data['RoofStyle'].apply(lambda x: RoofStyle[x])\n",
    "    data['RoofMatl']=data['RoofMatl'].apply(lambda x: RoofMatl[x])\n",
    "    data['Exterior1st']=data['Exterior1st'].apply(lambda x: Exterior1st[x])\n",
    "    data['Exterior2nd']=data['Exterior2nd'].apply(lambda x: Exterior1st[x])\n",
    "    data.MasVnrType=data.MasVnrType.fillna('None')\n",
    "    data['MasVnrType']=data['MasVnrType'].apply(lambda x: MasVnrType[x])\n",
    "    data['ExterQual']=data['ExterQual'].apply(lambda x: ExterQual[x])\n",
    "    data['ExterCond']=data['ExterCond'].apply(lambda x: ExterQual[x])\n",
    "    data['Foundation']=data['Foundation'].apply(lambda x: Foundation[x])\n",
    "    data.BsmtQual=data.BsmtQual.fillna('NA')\n",
    "    data['BsmtQual']=data['BsmtQual'].apply(lambda x: BsmtQC[x])\n",
    "    data.BsmtCond=data.BsmtCond.fillna('NA')\n",
    "    data['BsmtCond']=data['BsmtCond'].apply(lambda x: BsmtQC[x])\n",
    "    data.BsmtExposure=data.BsmtExposure.fillna('NA')\n",
    "    data['BsmtExposure']=data['BsmtExposure'].apply(lambda x: BsmtExposure[x])\n",
    "    data.BsmtFinType1=data.BsmtFinType1.fillna('NA')\n",
    "    data['BsmtFinType1']=data['BsmtFinType1'].apply(lambda x: BsmtFinType1[x])\n",
    "    data.BsmtFinType2=data.BsmtFinType2.fillna('NA')\n",
    "    data['BsmtFinType2']=data['BsmtFinType2'].apply(lambda x: BsmtFinType1[x])\n",
    "    data['Heating']=data['Heating'].apply(lambda x: Heating[x])\n",
    "    data['HeatingQC']=data['HeatingQC'].apply(lambda x: HeatingQC[x])\n",
    "    data['CentralAir']=data['CentralAir'].apply(lambda x: CentralAir[x])\n",
    "    data.Electrical=data.Electrical.fillna('NA')\n",
    "    data['Electrical']=data['Electrical'].apply(lambda x: Electrical[x])\n",
    "    data['KitchenQual']=data['KitchenQual'].apply(lambda x: KitchenQual[x])\n",
    "    data['Functional']=data['Functional'].apply(lambda x: Functional[x])\n",
    "    data.FireplaceQu=data.FireplaceQu.fillna('NA')\n",
    "    data['FireplaceQu']=data['FireplaceQu'].apply(lambda x: FireplaceQu[x])\n",
    "    data.GarageType=data.GarageType.fillna('NA')\n",
    "    data['GarageType']=data['GarageType'].apply(lambda x: GarageType[x])\n",
    "    data['GarageYrBlt']=data['GarageYrBlt'].apply(lambda x: 2020-x)\n",
    "    data.GarageFinish=data.GarageFinish.fillna('NA')\n",
    "    data['GarageFinish']=data['GarageFinish'].apply(lambda x: GarageFinish[x])\n",
    "    data.GarageQual=data.GarageQual.fillna('NA')\n",
    "    data['GarageQual']=data['GarageQual'].apply(lambda x: GarageQual[x])\n",
    "    data.GarageCond=data.GarageCond.fillna('NA')\n",
    "    data['GarageCond']=data['GarageCond'].apply(lambda x: GarageQual[x])\n",
    "    data['PavedDrive']=data['PavedDrive'].apply(lambda x: PavedDrive[x])\n",
    "    data.PoolQC=data.PoolQC.fillna('NA')\n",
    "    data['PoolQC']=data['PoolQC'].apply(lambda x: PoolQC[x])\n",
    "    data.Fence=data.Fence.fillna('NA')\n",
    "    data['Fence']=data['Fence'].apply(lambda x: Fence[x])\n",
    "    MiscFeature = pd.get_dummies(data['MiscFeature'])\n",
    "    data = pd.concat([data,MiscFeature],axis=1)\n",
    "    data=data.drop('MiscFeature',axis=1)\n",
    "    data=data.drop('MoSold',axis=1)\n",
    "    data['YrSold']=data['YrSold'].apply(lambda x: 2020-x)\n",
    "    #data['New']=data['SaleType'].apply(lambda x: if x=='New': 1 else: 0)\n",
    "    data.loc[data['SaleType']=='New','New']=1\n",
    "    data.New=data.New.fillna(0)\n",
    "    data=data.drop('SaleType',axis=1)\n",
    "    SaleCondition= pd.get_dummies(data['SaleCondition'])\n",
    "    data = pd.concat([data,SaleCondition],axis=1)\n",
    "    data=data.drop('SaleCondition',axis=1)\n",
    "    return data"
   ]
  },
  {
   "cell_type": "code",
   "execution_count": 10,
   "metadata": {},
   "outputs": [],
   "source": [
    "data=php_data.copy()\n",
    "data=data.drop('Id',axis=1)\n",
    "\n",
    "data=p_h_p_data_handling(data)"
   ]
  },
  {
   "cell_type": "code",
   "execution_count": 23,
   "metadata": {},
   "outputs": [
    {
     "data": {
      "text/plain": [
       "0       CollgCr\n",
       "1       Veenker\n",
       "2       CollgCr\n",
       "3       Crawfor\n",
       "4       NoRidge\n",
       "         ...   \n",
       "1016    CollgCr\n",
       "1017    StoneBr\n",
       "1018    Gilbert\n",
       "1019    Blmngtn\n",
       "1020    Edwards\n",
       "Name: Neighborhood, Length: 1021, dtype: object"
      ]
     },
     "execution_count": 23,
     "metadata": {},
     "output_type": "execute_result"
    }
   ],
   "source": [
    "data.Neighborhood"
   ]
  },
  {
   "cell_type": "markdown",
   "metadata": {},
   "source": [
    "### Saving feature table"
   ]
  },
  {
   "cell_type": "code",
   "execution_count": 42,
   "metadata": {},
   "outputs": [],
   "source": [
    "data.to_csv('data/Features_xy.csv')"
   ]
  },
  {
   "cell_type": "markdown",
   "metadata": {},
   "source": [
    "### Separating variables and target"
   ]
  },
  {
   "cell_type": "code",
   "execution_count": 39,
   "metadata": {},
   "outputs": [],
   "source": [
    "y_train = data['SalePrice']\n",
    "X_train = data.drop('SalePrice',axis=1)"
   ]
  },
  {
   "cell_type": "code",
   "execution_count": 40,
   "metadata": {},
   "outputs": [
    {
     "data": {
      "text/html": [
       "<div>\n",
       "<style scoped>\n",
       "    .dataframe tbody tr th:only-of-type {\n",
       "        vertical-align: middle;\n",
       "    }\n",
       "\n",
       "    .dataframe tbody tr th {\n",
       "        vertical-align: top;\n",
       "    }\n",
       "\n",
       "    .dataframe thead th {\n",
       "        text-align: right;\n",
       "    }\n",
       "</style>\n",
       "<table border=\"1\" class=\"dataframe\">\n",
       "  <thead>\n",
       "    <tr style=\"text-align: right;\">\n",
       "      <th></th>\n",
       "      <th>MSSubClass</th>\n",
       "      <th>MSZoning</th>\n",
       "      <th>LotFrontage</th>\n",
       "      <th>LotArea</th>\n",
       "      <th>Street</th>\n",
       "      <th>Alley</th>\n",
       "      <th>LotShape</th>\n",
       "      <th>LandContour</th>\n",
       "      <th>Utilities</th>\n",
       "      <th>LotConfig</th>\n",
       "      <th>...</th>\n",
       "      <th>Gar2</th>\n",
       "      <th>Othr</th>\n",
       "      <th>Shed</th>\n",
       "      <th>New</th>\n",
       "      <th>Abnorml</th>\n",
       "      <th>AdjLand</th>\n",
       "      <th>Alloca</th>\n",
       "      <th>Family</th>\n",
       "      <th>Normal</th>\n",
       "      <th>Partial</th>\n",
       "    </tr>\n",
       "  </thead>\n",
       "  <tbody>\n",
       "    <tr>\n",
       "      <th>0</th>\n",
       "      <td>60</td>\n",
       "      <td>6</td>\n",
       "      <td>65.0</td>\n",
       "      <td>8450</td>\n",
       "      <td>2</td>\n",
       "      <td>0</td>\n",
       "      <td>0</td>\n",
       "      <td>0</td>\n",
       "      <td>0</td>\n",
       "      <td>0</td>\n",
       "      <td>...</td>\n",
       "      <td>0</td>\n",
       "      <td>0</td>\n",
       "      <td>0</td>\n",
       "      <td>0.0</td>\n",
       "      <td>0</td>\n",
       "      <td>0</td>\n",
       "      <td>0</td>\n",
       "      <td>0</td>\n",
       "      <td>1</td>\n",
       "      <td>0</td>\n",
       "    </tr>\n",
       "    <tr>\n",
       "      <th>1</th>\n",
       "      <td>20</td>\n",
       "      <td>6</td>\n",
       "      <td>80.0</td>\n",
       "      <td>9600</td>\n",
       "      <td>2</td>\n",
       "      <td>0</td>\n",
       "      <td>0</td>\n",
       "      <td>0</td>\n",
       "      <td>0</td>\n",
       "      <td>3</td>\n",
       "      <td>...</td>\n",
       "      <td>0</td>\n",
       "      <td>0</td>\n",
       "      <td>0</td>\n",
       "      <td>0.0</td>\n",
       "      <td>0</td>\n",
       "      <td>0</td>\n",
       "      <td>0</td>\n",
       "      <td>0</td>\n",
       "      <td>1</td>\n",
       "      <td>0</td>\n",
       "    </tr>\n",
       "    <tr>\n",
       "      <th>2</th>\n",
       "      <td>60</td>\n",
       "      <td>6</td>\n",
       "      <td>68.0</td>\n",
       "      <td>11250</td>\n",
       "      <td>2</td>\n",
       "      <td>0</td>\n",
       "      <td>1</td>\n",
       "      <td>0</td>\n",
       "      <td>0</td>\n",
       "      <td>0</td>\n",
       "      <td>...</td>\n",
       "      <td>0</td>\n",
       "      <td>0</td>\n",
       "      <td>0</td>\n",
       "      <td>0.0</td>\n",
       "      <td>0</td>\n",
       "      <td>0</td>\n",
       "      <td>0</td>\n",
       "      <td>0</td>\n",
       "      <td>1</td>\n",
       "      <td>0</td>\n",
       "    </tr>\n",
       "    <tr>\n",
       "      <th>3</th>\n",
       "      <td>70</td>\n",
       "      <td>6</td>\n",
       "      <td>60.0</td>\n",
       "      <td>9550</td>\n",
       "      <td>2</td>\n",
       "      <td>0</td>\n",
       "      <td>1</td>\n",
       "      <td>0</td>\n",
       "      <td>0</td>\n",
       "      <td>1</td>\n",
       "      <td>...</td>\n",
       "      <td>0</td>\n",
       "      <td>0</td>\n",
       "      <td>0</td>\n",
       "      <td>0.0</td>\n",
       "      <td>1</td>\n",
       "      <td>0</td>\n",
       "      <td>0</td>\n",
       "      <td>0</td>\n",
       "      <td>0</td>\n",
       "      <td>0</td>\n",
       "    </tr>\n",
       "    <tr>\n",
       "      <th>4</th>\n",
       "      <td>60</td>\n",
       "      <td>6</td>\n",
       "      <td>84.0</td>\n",
       "      <td>14260</td>\n",
       "      <td>2</td>\n",
       "      <td>0</td>\n",
       "      <td>1</td>\n",
       "      <td>0</td>\n",
       "      <td>0</td>\n",
       "      <td>3</td>\n",
       "      <td>...</td>\n",
       "      <td>0</td>\n",
       "      <td>0</td>\n",
       "      <td>0</td>\n",
       "      <td>0.0</td>\n",
       "      <td>0</td>\n",
       "      <td>0</td>\n",
       "      <td>0</td>\n",
       "      <td>0</td>\n",
       "      <td>1</td>\n",
       "      <td>0</td>\n",
       "    </tr>\n",
       "  </tbody>\n",
       "</table>\n",
       "<p>5 rows × 86 columns</p>\n",
       "</div>"
      ],
      "text/plain": [
       "   MSSubClass  MSZoning  LotFrontage  LotArea  Street  Alley  LotShape  \\\n",
       "0          60         6         65.0     8450       2      0         0   \n",
       "1          20         6         80.0     9600       2      0         0   \n",
       "2          60         6         68.0    11250       2      0         1   \n",
       "3          70         6         60.0     9550       2      0         1   \n",
       "4          60         6         84.0    14260       2      0         1   \n",
       "\n",
       "   LandContour  Utilities  LotConfig  ...  Gar2 Othr  Shed  New  Abnorml  \\\n",
       "0            0          0          0  ...     0    0     0  0.0        0   \n",
       "1            0          0          3  ...     0    0     0  0.0        0   \n",
       "2            0          0          0  ...     0    0     0  0.0        0   \n",
       "3            0          0          1  ...     0    0     0  0.0        1   \n",
       "4            0          0          3  ...     0    0     0  0.0        0   \n",
       "\n",
       "   AdjLand  Alloca  Family  Normal  Partial  \n",
       "0        0       0       0       1        0  \n",
       "1        0       0       0       1        0  \n",
       "2        0       0       0       1        0  \n",
       "3        0       0       0       0        0  \n",
       "4        0       0       0       1        0  \n",
       "\n",
       "[5 rows x 86 columns]"
      ]
     },
     "execution_count": 40,
     "metadata": {},
     "output_type": "execute_result"
    }
   ],
   "source": [
    "X_train.head()"
   ]
  },
  {
   "cell_type": "markdown",
   "metadata": {},
   "source": [
    "## Test data"
   ]
  },
  {
   "cell_type": "code",
   "execution_count": 24,
   "metadata": {},
   "outputs": [],
   "source": [
    "php_test= pd.read_csv('data/Test.csv')"
   ]
  },
  {
   "cell_type": "code",
   "execution_count": 25,
   "metadata": {},
   "outputs": [
    {
     "data": {
      "text/plain": [
       "(439, 80)"
      ]
     },
     "execution_count": 25,
     "metadata": {},
     "output_type": "execute_result"
    }
   ],
   "source": [
    "php_test.shape"
   ]
  },
  {
   "cell_type": "code",
   "execution_count": 9,
   "metadata": {},
   "outputs": [],
   "source": [
    "test_data=php_test.copy()\n",
    "test_id = test_data['Id']\n",
    "test_data=test_data.drop('Id',axis=1)\n",
    "\n",
    "test_feat = p_h_p_data_handling(test_data)"
   ]
  },
  {
   "cell_type": "code",
   "execution_count": 21,
   "metadata": {},
   "outputs": [],
   "source": [
    "test_feat.to_csv('data/Test_Features_xy.csv')"
   ]
  },
  {
   "cell_type": "code",
   "execution_count": 10,
   "metadata": {},
   "outputs": [],
   "source": [
    "test_id.to_csv('data/test_id.csv')"
   ]
  },
  {
   "cell_type": "code",
   "execution_count": null,
   "metadata": {},
   "outputs": [],
   "source": []
  }
 ],
 "metadata": {
  "kernelspec": {
   "display_name": "Python 3",
   "language": "python",
   "name": "python3"
  },
  "language_info": {
   "codemirror_mode": {
    "name": "ipython",
    "version": 3
   },
   "file_extension": ".py",
   "mimetype": "text/x-python",
   "name": "python",
   "nbconvert_exporter": "python",
   "pygments_lexer": "ipython3",
   "version": "3.7.6"
  }
 },
 "nbformat": 4,
 "nbformat_minor": 4
}
