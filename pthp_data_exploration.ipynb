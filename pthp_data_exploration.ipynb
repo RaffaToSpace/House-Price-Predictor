{
 "cells": [
  {
   "cell_type": "markdown",
   "metadata": {},
   "source": [
    "# Predicting the house price: Data Exploration.\n",
    "\n",
    "In this notebook I perform some preliminary analysis on the provided data, with the idea of obtaining some insight regarding the variables incidence on the predicted target, finding correlations, etc.\n",
    "\n",
    "The main insight I am planning to get is correlation between values of non numerical categorical variables and target. This is because creating dummy variables would generate a dataset of many hundreds of variables, and encoding variables into ordinal numbers would be preferable.\n",
    "\n",
    "For a description of the variables, see documentation on the kaggle page of the dataaset."
   ]
  },
  {
   "cell_type": "code",
   "execution_count": 39,
   "metadata": {},
   "outputs": [],
   "source": [
    "import pandas as pd\n",
    "import numpy as np\n",
    "import matplotlib.pyplot as plt\n",
    "import scipy.stats as scs\n",
    "\n",
    "%matplotlib inline"
   ]
  },
  {
   "cell_type": "code",
   "execution_count": 2,
   "metadata": {},
   "outputs": [],
   "source": [
    "php_data= pd.read_csv('data/train.csv')\n",
    "feat = pd.read_csv('data/Features_xy.csv')\n",
    "Neighborhood = pd.read_csv('data/Neighborhood.coordinates.csv')"
   ]
  },
  {
   "cell_type": "code",
   "execution_count": 3,
   "metadata": {},
   "outputs": [
    {
     "data": {
      "text/html": [
       "<div>\n",
       "<style scoped>\n",
       "    .dataframe tbody tr th:only-of-type {\n",
       "        vertical-align: middle;\n",
       "    }\n",
       "\n",
       "    .dataframe tbody tr th {\n",
       "        vertical-align: top;\n",
       "    }\n",
       "\n",
       "    .dataframe thead th {\n",
       "        text-align: right;\n",
       "    }\n",
       "</style>\n",
       "<table border=\"1\" class=\"dataframe\">\n",
       "  <thead>\n",
       "    <tr style=\"text-align: right;\">\n",
       "      <th></th>\n",
       "      <th>Unnamed: 0</th>\n",
       "      <th>MSSubClass</th>\n",
       "      <th>MSZoning</th>\n",
       "      <th>LotFrontage</th>\n",
       "      <th>LotArea</th>\n",
       "      <th>Street</th>\n",
       "      <th>Alley</th>\n",
       "      <th>LotShape</th>\n",
       "      <th>LandContour</th>\n",
       "      <th>Utilities</th>\n",
       "      <th>...</th>\n",
       "      <th>Gar2</th>\n",
       "      <th>Othr</th>\n",
       "      <th>Shed</th>\n",
       "      <th>New</th>\n",
       "      <th>Abnorml</th>\n",
       "      <th>AdjLand</th>\n",
       "      <th>Alloca</th>\n",
       "      <th>Family</th>\n",
       "      <th>Normal</th>\n",
       "      <th>Partial</th>\n",
       "    </tr>\n",
       "  </thead>\n",
       "  <tbody>\n",
       "    <tr>\n",
       "      <th>0</th>\n",
       "      <td>0</td>\n",
       "      <td>60</td>\n",
       "      <td>6</td>\n",
       "      <td>65.0</td>\n",
       "      <td>8450</td>\n",
       "      <td>2</td>\n",
       "      <td>0</td>\n",
       "      <td>0</td>\n",
       "      <td>0</td>\n",
       "      <td>0</td>\n",
       "      <td>...</td>\n",
       "      <td>0</td>\n",
       "      <td>0</td>\n",
       "      <td>0</td>\n",
       "      <td>0.0</td>\n",
       "      <td>0</td>\n",
       "      <td>0</td>\n",
       "      <td>0</td>\n",
       "      <td>0</td>\n",
       "      <td>1</td>\n",
       "      <td>0</td>\n",
       "    </tr>\n",
       "    <tr>\n",
       "      <th>1</th>\n",
       "      <td>1</td>\n",
       "      <td>20</td>\n",
       "      <td>6</td>\n",
       "      <td>80.0</td>\n",
       "      <td>9600</td>\n",
       "      <td>2</td>\n",
       "      <td>0</td>\n",
       "      <td>0</td>\n",
       "      <td>0</td>\n",
       "      <td>0</td>\n",
       "      <td>...</td>\n",
       "      <td>0</td>\n",
       "      <td>0</td>\n",
       "      <td>0</td>\n",
       "      <td>0.0</td>\n",
       "      <td>0</td>\n",
       "      <td>0</td>\n",
       "      <td>0</td>\n",
       "      <td>0</td>\n",
       "      <td>1</td>\n",
       "      <td>0</td>\n",
       "    </tr>\n",
       "    <tr>\n",
       "      <th>2</th>\n",
       "      <td>2</td>\n",
       "      <td>60</td>\n",
       "      <td>6</td>\n",
       "      <td>68.0</td>\n",
       "      <td>11250</td>\n",
       "      <td>2</td>\n",
       "      <td>0</td>\n",
       "      <td>1</td>\n",
       "      <td>0</td>\n",
       "      <td>0</td>\n",
       "      <td>...</td>\n",
       "      <td>0</td>\n",
       "      <td>0</td>\n",
       "      <td>0</td>\n",
       "      <td>0.0</td>\n",
       "      <td>0</td>\n",
       "      <td>0</td>\n",
       "      <td>0</td>\n",
       "      <td>0</td>\n",
       "      <td>1</td>\n",
       "      <td>0</td>\n",
       "    </tr>\n",
       "    <tr>\n",
       "      <th>3</th>\n",
       "      <td>3</td>\n",
       "      <td>70</td>\n",
       "      <td>6</td>\n",
       "      <td>60.0</td>\n",
       "      <td>9550</td>\n",
       "      <td>2</td>\n",
       "      <td>0</td>\n",
       "      <td>1</td>\n",
       "      <td>0</td>\n",
       "      <td>0</td>\n",
       "      <td>...</td>\n",
       "      <td>0</td>\n",
       "      <td>0</td>\n",
       "      <td>0</td>\n",
       "      <td>0.0</td>\n",
       "      <td>1</td>\n",
       "      <td>0</td>\n",
       "      <td>0</td>\n",
       "      <td>0</td>\n",
       "      <td>0</td>\n",
       "      <td>0</td>\n",
       "    </tr>\n",
       "    <tr>\n",
       "      <th>4</th>\n",
       "      <td>4</td>\n",
       "      <td>60</td>\n",
       "      <td>6</td>\n",
       "      <td>84.0</td>\n",
       "      <td>14260</td>\n",
       "      <td>2</td>\n",
       "      <td>0</td>\n",
       "      <td>1</td>\n",
       "      <td>0</td>\n",
       "      <td>0</td>\n",
       "      <td>...</td>\n",
       "      <td>0</td>\n",
       "      <td>0</td>\n",
       "      <td>0</td>\n",
       "      <td>0.0</td>\n",
       "      <td>0</td>\n",
       "      <td>0</td>\n",
       "      <td>0</td>\n",
       "      <td>0</td>\n",
       "      <td>1</td>\n",
       "      <td>0</td>\n",
       "    </tr>\n",
       "  </tbody>\n",
       "</table>\n",
       "<p>5 rows × 88 columns</p>\n",
       "</div>"
      ],
      "text/plain": [
       "   Unnamed: 0  MSSubClass  MSZoning  LotFrontage  LotArea  Street  Alley  \\\n",
       "0           0          60         6         65.0     8450       2      0   \n",
       "1           1          20         6         80.0     9600       2      0   \n",
       "2           2          60         6         68.0    11250       2      0   \n",
       "3           3          70         6         60.0     9550       2      0   \n",
       "4           4          60         6         84.0    14260       2      0   \n",
       "\n",
       "   LotShape  LandContour  Utilities  ...  Gar2  Othr Shed  New  Abnorml  \\\n",
       "0         0            0          0  ...     0     0    0  0.0        0   \n",
       "1         0            0          0  ...     0     0    0  0.0        0   \n",
       "2         1            0          0  ...     0     0    0  0.0        0   \n",
       "3         1            0          0  ...     0     0    0  0.0        1   \n",
       "4         1            0          0  ...     0     0    0  0.0        0   \n",
       "\n",
       "   AdjLand  Alloca  Family  Normal  Partial  \n",
       "0        0       0       0       1        0  \n",
       "1        0       0       0       1        0  \n",
       "2        0       0       0       1        0  \n",
       "3        0       0       0       0        0  \n",
       "4        0       0       0       1        0  \n",
       "\n",
       "[5 rows x 88 columns]"
      ]
     },
     "execution_count": 3,
     "metadata": {},
     "output_type": "execute_result"
    }
   ],
   "source": [
    "feat.head()"
   ]
  },
  {
   "cell_type": "code",
   "execution_count": 4,
   "metadata": {},
   "outputs": [],
   "source": [
    "data=php_data.copy()\n",
    "data=data.drop('Id',axis=1)"
   ]
  },
  {
   "cell_type": "markdown",
   "metadata": {},
   "source": [
    "###  Exterior covering on house"
   ]
  },
  {
   "cell_type": "code",
   "execution_count": 5,
   "metadata": {},
   "outputs": [
    {
     "data": {
      "text/html": [
       "<div>\n",
       "<style scoped>\n",
       "    .dataframe tbody tr th:only-of-type {\n",
       "        vertical-align: middle;\n",
       "    }\n",
       "\n",
       "    .dataframe tbody tr th {\n",
       "        vertical-align: top;\n",
       "    }\n",
       "\n",
       "    .dataframe thead th {\n",
       "        text-align: right;\n",
       "    }\n",
       "</style>\n",
       "<table border=\"1\" class=\"dataframe\">\n",
       "  <thead>\n",
       "    <tr style=\"text-align: right;\">\n",
       "      <th></th>\n",
       "      <th>SalePrice</th>\n",
       "      <th>StDev</th>\n",
       "    </tr>\n",
       "    <tr>\n",
       "      <th>Exterior1st</th>\n",
       "      <th></th>\n",
       "      <th></th>\n",
       "    </tr>\n",
       "  </thead>\n",
       "  <tbody>\n",
       "    <tr>\n",
       "      <th>BrkComm</th>\n",
       "      <td>71000.000000</td>\n",
       "      <td>15556.349186</td>\n",
       "    </tr>\n",
       "    <tr>\n",
       "      <th>AsphShn</th>\n",
       "      <td>100000.000000</td>\n",
       "      <td>NaN</td>\n",
       "    </tr>\n",
       "    <tr>\n",
       "      <th>AsbShng</th>\n",
       "      <td>104870.076923</td>\n",
       "      <td>33329.588057</td>\n",
       "    </tr>\n",
       "    <tr>\n",
       "      <th>Stucco</th>\n",
       "      <td>144808.823529</td>\n",
       "      <td>54726.717058</td>\n",
       "    </tr>\n",
       "    <tr>\n",
       "      <th>Wd Sdng</th>\n",
       "      <td>147842.802721</td>\n",
       "      <td>58975.145481</td>\n",
       "    </tr>\n",
       "    <tr>\n",
       "      <th>MetalSd</th>\n",
       "      <td>148872.053333</td>\n",
       "      <td>56956.503049</td>\n",
       "    </tr>\n",
       "    <tr>\n",
       "      <th>HdBoard</th>\n",
       "      <td>160987.350318</td>\n",
       "      <td>62123.440117</td>\n",
       "    </tr>\n",
       "    <tr>\n",
       "      <th>WdShing</th>\n",
       "      <td>161562.210526</td>\n",
       "      <td>82308.088434</td>\n",
       "    </tr>\n",
       "    <tr>\n",
       "      <th>Plywood</th>\n",
       "      <td>174681.456790</td>\n",
       "      <td>51450.320503</td>\n",
       "    </tr>\n",
       "    <tr>\n",
       "      <th>BrkFace</th>\n",
       "      <td>203013.793103</td>\n",
       "      <td>93375.140941</td>\n",
       "    </tr>\n",
       "    <tr>\n",
       "      <th>VinylSd</th>\n",
       "      <td>217347.058172</td>\n",
       "      <td>83688.998741</td>\n",
       "    </tr>\n",
       "    <tr>\n",
       "      <th>CemntBd</th>\n",
       "      <td>239604.613636</td>\n",
       "      <td>117818.847208</td>\n",
       "    </tr>\n",
       "  </tbody>\n",
       "</table>\n",
       "</div>"
      ],
      "text/plain": [
       "                 SalePrice          StDev\n",
       "Exterior1st                              \n",
       "BrkComm       71000.000000   15556.349186\n",
       "AsphShn      100000.000000            NaN\n",
       "AsbShng      104870.076923   33329.588057\n",
       "Stucco       144808.823529   54726.717058\n",
       "Wd Sdng      147842.802721   58975.145481\n",
       "MetalSd      148872.053333   56956.503049\n",
       "HdBoard      160987.350318   62123.440117\n",
       "WdShing      161562.210526   82308.088434\n",
       "Plywood      174681.456790   51450.320503\n",
       "BrkFace      203013.793103   93375.140941\n",
       "VinylSd      217347.058172   83688.998741\n",
       "CemntBd      239604.613636  117818.847208"
      ]
     },
     "execution_count": 5,
     "metadata": {},
     "output_type": "execute_result"
    }
   ],
   "source": [
    "sub_df = data[['Exterior1st','SalePrice']]\n",
    "sub_df_m = sub_df.groupby(['Exterior1st']).mean()\n",
    "sub_df_m['StDev'] = sub_df.groupby(['Exterior1st']).std()\n",
    "sub_df_m=sub_df_m.sort_values(by=['SalePrice'])\n",
    "sub_df_m"
   ]
  },
  {
   "cell_type": "code",
   "execution_count": 15,
   "metadata": {},
   "outputs": [
    {
     "data": {
      "image/png": "[encoded data removed]",
      "text/plain": [
       "<Figure size 432x288 with 1 Axes>"
      ]
     },
     "metadata": {
      "needs_background": "light"
     },
     "output_type": "display_data"
    }
   ],
   "source": [
    "ax=plt.axes()\n",
    "plt.errorbar(sub_df_m.index,sub_df_m.SalePrice,yerr = sub_df_m.StDev,ecolor = 'purple',capsize =4,marker='s',ms=5,lw=1,ls='',mec='black',mfc='black')\n",
    "plt.ylabel('Sale Price',fontsize=15)\n",
    "#plt.title('Exterior covering on house',fontsize=20)\n",
    "plt.xticks(rotation =35)\n",
    "plt.grid(color='w', linestyle='-', linewidth=1)\n",
    "plt.text(0,340000,'Exterior covering on house',fontsize=17)\n",
    "ax.set_facecolor('#f0f0f0')\n",
    "plt.savefig('data/Exterior1st.png',bbox_inches='tight')\n",
    "plt.show()"
   ]
  },
  {
   "cell_type": "markdown",
   "metadata": {},
   "source": [
    "### Roof material"
   ]
  },
  {
   "cell_type": "code",
   "execution_count": 7,
   "metadata": {},
   "outputs": [
    {
     "data": {
      "text/html": [
       "<div>\n",
       "<style scoped>\n",
       "    .dataframe tbody tr th:only-of-type {\n",
       "        vertical-align: middle;\n",
       "    }\n",
       "\n",
       "    .dataframe tbody tr th {\n",
       "        vertical-align: top;\n",
       "    }\n",
       "\n",
       "    .dataframe thead th {\n",
       "        text-align: right;\n",
       "    }\n",
       "</style>\n",
       "<table border=\"1\" class=\"dataframe\">\n",
       "  <thead>\n",
       "    <tr style=\"text-align: right;\">\n",
       "      <th></th>\n",
       "      <th>SalePrice</th>\n",
       "      <th>StDev</th>\n",
       "    </tr>\n",
       "    <tr>\n",
       "      <th>RoofMatl</th>\n",
       "      <th></th>\n",
       "      <th></th>\n",
       "    </tr>\n",
       "  </thead>\n",
       "  <tbody>\n",
       "    <tr>\n",
       "      <th>Tar&amp;Grv</th>\n",
       "      <td>176450.000000</td>\n",
       "      <td>61452.081603</td>\n",
       "    </tr>\n",
       "    <tr>\n",
       "      <th>Metal</th>\n",
       "      <td>180000.000000</td>\n",
       "      <td>NaN</td>\n",
       "    </tr>\n",
       "    <tr>\n",
       "      <th>CompShg</th>\n",
       "      <td>180427.018981</td>\n",
       "      <td>77455.470486</td>\n",
       "    </tr>\n",
       "    <tr>\n",
       "      <th>WdShake</th>\n",
       "      <td>220000.000000</td>\n",
       "      <td>26907.248094</td>\n",
       "    </tr>\n",
       "    <tr>\n",
       "      <th>Membran</th>\n",
       "      <td>241500.000000</td>\n",
       "      <td>NaN</td>\n",
       "    </tr>\n",
       "    <tr>\n",
       "      <th>WdShngl</th>\n",
       "      <td>412700.000000</td>\n",
       "      <td>223081.151154</td>\n",
       "    </tr>\n",
       "  </tbody>\n",
       "</table>\n",
       "</div>"
      ],
      "text/plain": [
       "              SalePrice          StDev\n",
       "RoofMatl                              \n",
       "Tar&Grv   176450.000000   61452.081603\n",
       "Metal     180000.000000            NaN\n",
       "CompShg   180427.018981   77455.470486\n",
       "WdShake   220000.000000   26907.248094\n",
       "Membran   241500.000000            NaN\n",
       "WdShngl   412700.000000  223081.151154"
      ]
     },
     "execution_count": 7,
     "metadata": {},
     "output_type": "execute_result"
    }
   ],
   "source": [
    "sub_df = data[['RoofMatl','SalePrice']]\n",
    "sub_df_m = sub_df.groupby(['RoofMatl']).mean()\n",
    "sub_df_m['StDev'] = sub_df.groupby(['RoofMatl']).std()\n",
    "sub_df_m=sub_df_m.sort_values(by=['SalePrice'])\n",
    "sub_df_m"
   ]
  },
  {
   "cell_type": "code",
   "execution_count": 9,
   "metadata": {},
   "outputs": [
    {
     "data": {
      "image/png": "[encoded data removed]",
      "text/plain": [
       "<Figure size 432x288 with 1 Axes>"
      ]
     },
     "metadata": {
      "needs_background": "light"
     },
     "output_type": "display_data"
    }
   ],
   "source": [
    "ax=plt.axes()\n",
    "plt.errorbar(sub_df_m.index,sub_df_m.SalePrice,yerr = sub_df_m.StDev,ecolor = 'purple',capsize =4,marker='s',ms=5,lw=1,ls='',mec='black',mfc='black')\n",
    "plt.ylabel('Sale Price',fontsize=15)\n",
    "#plt.title('Exterior covering on house',fontsize=20)\n",
    "plt.xticks(rotation =35)\n",
    "plt.grid(color='w', linestyle='-', linewidth=1)\n",
    "plt.text(0,580000,'Roof material',fontsize=17)\n",
    "ax.set_facecolor('#f0f0f0')\n",
    "plt.savefig('data/RoofMatl.png',bbox_inches='tight')\n",
    "plt.show()"
   ]
  },
  {
   "cell_type": "markdown",
   "metadata": {},
   "source": [
    "### Roof style"
   ]
  },
  {
   "cell_type": "code",
   "execution_count": 10,
   "metadata": {},
   "outputs": [
    {
     "data": {
      "text/html": [
       "<div>\n",
       "<style scoped>\n",
       "    .dataframe tbody tr th:only-of-type {\n",
       "        vertical-align: middle;\n",
       "    }\n",
       "\n",
       "    .dataframe tbody tr th {\n",
       "        vertical-align: top;\n",
       "    }\n",
       "\n",
       "    .dataframe thead th {\n",
       "        text-align: right;\n",
       "    }\n",
       "</style>\n",
       "<table border=\"1\" class=\"dataframe\">\n",
       "  <thead>\n",
       "    <tr style=\"text-align: right;\">\n",
       "      <th></th>\n",
       "      <th>SalePrice</th>\n",
       "    </tr>\n",
       "    <tr>\n",
       "      <th>RoofStyle</th>\n",
       "      <th></th>\n",
       "    </tr>\n",
       "  </thead>\n",
       "  <tbody>\n",
       "    <tr>\n",
       "      <th>Gambrel</th>\n",
       "      <td>140687.500000</td>\n",
       "    </tr>\n",
       "    <tr>\n",
       "      <th>Gable</th>\n",
       "      <td>173001.872659</td>\n",
       "    </tr>\n",
       "    <tr>\n",
       "      <th>Mansard</th>\n",
       "      <td>187496.500000</td>\n",
       "    </tr>\n",
       "    <tr>\n",
       "      <th>Flat</th>\n",
       "      <td>188000.000000</td>\n",
       "    </tr>\n",
       "    <tr>\n",
       "      <th>Hip</th>\n",
       "      <td>218742.097938</td>\n",
       "    </tr>\n",
       "  </tbody>\n",
       "</table>\n",
       "</div>"
      ],
      "text/plain": [
       "               SalePrice\n",
       "RoofStyle               \n",
       "Gambrel    140687.500000\n",
       "Gable      173001.872659\n",
       "Mansard    187496.500000\n",
       "Flat       188000.000000\n",
       "Hip        218742.097938"
      ]
     },
     "execution_count": 10,
     "metadata": {},
     "output_type": "execute_result"
    }
   ],
   "source": [
    "sub_df = data[['RoofStyle','SalePrice']]\n",
    "sub_df = sub_df.groupby(['RoofStyle']).mean()\n",
    "sub_df=sub_df.sort_values(by=['SalePrice'])\n",
    "sub_df"
   ]
  },
  {
   "cell_type": "markdown",
   "metadata": {},
   "source": [
    "### House Style"
   ]
  },
  {
   "cell_type": "code",
   "execution_count": 11,
   "metadata": {},
   "outputs": [
    {
     "data": {
      "text/html": [
       "<div>\n",
       "<style scoped>\n",
       "    .dataframe tbody tr th:only-of-type {\n",
       "        vertical-align: middle;\n",
       "    }\n",
       "\n",
       "    .dataframe tbody tr th {\n",
       "        vertical-align: top;\n",
       "    }\n",
       "\n",
       "    .dataframe thead th {\n",
       "        text-align: right;\n",
       "    }\n",
       "</style>\n",
       "<table border=\"1\" class=\"dataframe\">\n",
       "  <thead>\n",
       "    <tr style=\"text-align: right;\">\n",
       "      <th></th>\n",
       "      <th>SalePrice</th>\n",
       "      <th>StDev</th>\n",
       "    </tr>\n",
       "    <tr>\n",
       "      <th>HouseStyle</th>\n",
       "      <th></th>\n",
       "      <th></th>\n",
       "    </tr>\n",
       "  </thead>\n",
       "  <tbody>\n",
       "    <tr>\n",
       "      <th>1.5Unf</th>\n",
       "      <td>107175.000000</td>\n",
       "      <td>18755.805162</td>\n",
       "    </tr>\n",
       "    <tr>\n",
       "      <th>SFoyer</th>\n",
       "      <td>138472.961538</td>\n",
       "      <td>32235.563690</td>\n",
       "    </tr>\n",
       "    <tr>\n",
       "      <th>1.5Fin</th>\n",
       "      <td>140743.841584</td>\n",
       "      <td>48244.444180</td>\n",
       "    </tr>\n",
       "    <tr>\n",
       "      <th>SLvl</th>\n",
       "      <td>164465.476190</td>\n",
       "      <td>41848.379763</td>\n",
       "    </tr>\n",
       "    <tr>\n",
       "      <th>2.5Unf</th>\n",
       "      <td>166925.000000</td>\n",
       "      <td>73619.499552</td>\n",
       "    </tr>\n",
       "    <tr>\n",
       "      <th>1Story</th>\n",
       "      <td>175922.757339</td>\n",
       "      <td>78387.503515</td>\n",
       "    </tr>\n",
       "    <tr>\n",
       "      <th>2Story</th>\n",
       "      <td>212393.466667</td>\n",
       "      <td>85259.494132</td>\n",
       "    </tr>\n",
       "    <tr>\n",
       "      <th>2.5Fin</th>\n",
       "      <td>228666.666667</td>\n",
       "      <td>138562.500940</td>\n",
       "    </tr>\n",
       "  </tbody>\n",
       "</table>\n",
       "</div>"
      ],
      "text/plain": [
       "                SalePrice          StDev\n",
       "HouseStyle                              \n",
       "1.5Unf      107175.000000   18755.805162\n",
       "SFoyer      138472.961538   32235.563690\n",
       "1.5Fin      140743.841584   48244.444180\n",
       "SLvl        164465.476190   41848.379763\n",
       "2.5Unf      166925.000000   73619.499552\n",
       "1Story      175922.757339   78387.503515\n",
       "2Story      212393.466667   85259.494132\n",
       "2.5Fin      228666.666667  138562.500940"
      ]
     },
     "execution_count": 11,
     "metadata": {},
     "output_type": "execute_result"
    }
   ],
   "source": [
    "sub_df = data[['HouseStyle','SalePrice']]\n",
    "sub_df_m = sub_df.groupby(['HouseStyle']).mean()\n",
    "sub_df_m['StDev'] = sub_df.groupby(['HouseStyle']).std()\n",
    "sub_df_m=sub_df_m.sort_values(by=['SalePrice'])\n",
    "sub_df_m"
   ]
  },
  {
   "cell_type": "code",
   "execution_count": 16,
   "metadata": {},
   "outputs": [
    {
     "data": {
      "image/png": "[encoded data removed]",
      "text/plain": [
       "<Figure size 432x288 with 1 Axes>"
      ]
     },
     "metadata": {
      "needs_background": "light"
     },
     "output_type": "display_data"
    }
   ],
   "source": [
    "ax=plt.axes()\n",
    "plt.errorbar(sub_df_m.index,sub_df_m.SalePrice,yerr = sub_df_m.StDev,ecolor = 'purple',capsize =4,marker='s',ms=5,lw=1,ls='',mec='black',mfc='black')\n",
    "plt.ylabel('Sale Price',fontsize=15)\n",
    "#plt.title('Exterior covering on house',fontsize=20)\n",
    "plt.xticks(rotation =35)\n",
    "plt.grid(color='w', linestyle='-', linewidth=1)\n",
    "plt.text(0,340000,'House style',fontsize=17)\n",
    "ax.set_facecolor('#f0f0f0')\n",
    "plt.savefig('data/HouseStyle.png',bbox_inches='tight')\n",
    "plt.show()"
   ]
  },
  {
   "cell_type": "markdown",
   "metadata": {},
   "source": [
    "### Masonry veneer type"
   ]
  },
  {
   "cell_type": "code",
   "execution_count": 9,
   "metadata": {},
   "outputs": [
    {
     "data": {
      "text/html": [
       "<div>\n",
       "<style scoped>\n",
       "    .dataframe tbody tr th:only-of-type {\n",
       "        vertical-align: middle;\n",
       "    }\n",
       "\n",
       "    .dataframe tbody tr th {\n",
       "        vertical-align: top;\n",
       "    }\n",
       "\n",
       "    .dataframe thead th {\n",
       "        text-align: right;\n",
       "    }\n",
       "</style>\n",
       "<table border=\"1\" class=\"dataframe\">\n",
       "  <thead>\n",
       "    <tr style=\"text-align: right;\">\n",
       "      <th></th>\n",
       "      <th>SalePrice</th>\n",
       "    </tr>\n",
       "    <tr>\n",
       "      <th>MasVnrType</th>\n",
       "      <th></th>\n",
       "    </tr>\n",
       "  </thead>\n",
       "  <tbody>\n",
       "    <tr>\n",
       "      <th>BrkCmn</th>\n",
       "      <td>140397.583333</td>\n",
       "    </tr>\n",
       "    <tr>\n",
       "      <th>None</th>\n",
       "      <td>156107.704698</td>\n",
       "    </tr>\n",
       "    <tr>\n",
       "      <th>BrkFace</th>\n",
       "      <td>206473.323171</td>\n",
       "    </tr>\n",
       "    <tr>\n",
       "      <th>Stone</th>\n",
       "      <td>276947.582278</td>\n",
       "    </tr>\n",
       "  </tbody>\n",
       "</table>\n",
       "</div>"
      ],
      "text/plain": [
       "                SalePrice\n",
       "MasVnrType               \n",
       "BrkCmn      140397.583333\n",
       "None        156107.704698\n",
       "BrkFace     206473.323171\n",
       "Stone       276947.582278"
      ]
     },
     "execution_count": 9,
     "metadata": {},
     "output_type": "execute_result"
    }
   ],
   "source": [
    "sub_df = data[['MasVnrType','SalePrice']]\n",
    "sub_df = sub_df.groupby(['MasVnrType']).mean()\n",
    "sub_df=sub_df.sort_values(by=['SalePrice'])\n",
    "sub_df"
   ]
  },
  {
   "cell_type": "markdown",
   "metadata": {},
   "source": [
    "### Type of Foundation"
   ]
  },
  {
   "cell_type": "code",
   "execution_count": 10,
   "metadata": {},
   "outputs": [
    {
     "data": {
      "text/html": [
       "<div>\n",
       "<style scoped>\n",
       "    .dataframe tbody tr th:only-of-type {\n",
       "        vertical-align: middle;\n",
       "    }\n",
       "\n",
       "    .dataframe tbody tr th {\n",
       "        vertical-align: top;\n",
       "    }\n",
       "\n",
       "    .dataframe thead th {\n",
       "        text-align: right;\n",
       "    }\n",
       "</style>\n",
       "<table border=\"1\" class=\"dataframe\">\n",
       "  <thead>\n",
       "    <tr style=\"text-align: right;\">\n",
       "      <th></th>\n",
       "      <th>SalePrice</th>\n",
       "    </tr>\n",
       "    <tr>\n",
       "      <th>Foundation</th>\n",
       "      <th></th>\n",
       "    </tr>\n",
       "  </thead>\n",
       "  <tbody>\n",
       "    <tr>\n",
       "      <th>Slab</th>\n",
       "      <td>111198.333333</td>\n",
       "    </tr>\n",
       "    <tr>\n",
       "      <th>BrkTil</th>\n",
       "      <td>132392.673267</td>\n",
       "    </tr>\n",
       "    <tr>\n",
       "      <th>Wood</th>\n",
       "      <td>143000.000000</td>\n",
       "    </tr>\n",
       "    <tr>\n",
       "      <th>CBlock</th>\n",
       "      <td>149979.772523</td>\n",
       "    </tr>\n",
       "    <tr>\n",
       "      <th>Stone</th>\n",
       "      <td>155438.750000</td>\n",
       "    </tr>\n",
       "    <tr>\n",
       "      <th>PConc</th>\n",
       "      <td>226143.721491</td>\n",
       "    </tr>\n",
       "  </tbody>\n",
       "</table>\n",
       "</div>"
      ],
      "text/plain": [
       "                SalePrice\n",
       "Foundation               \n",
       "Slab        111198.333333\n",
       "BrkTil      132392.673267\n",
       "Wood        143000.000000\n",
       "CBlock      149979.772523\n",
       "Stone       155438.750000\n",
       "PConc       226143.721491"
      ]
     },
     "execution_count": 10,
     "metadata": {},
     "output_type": "execute_result"
    }
   ],
   "source": [
    "sub_df = data[['Foundation','SalePrice']]\n",
    "sub_df = sub_df.groupby(['Foundation']).mean()\n",
    "sub_df=sub_df.sort_values(by=['SalePrice'])\n",
    "sub_df"
   ]
  },
  {
   "cell_type": "markdown",
   "metadata": {},
   "source": [
    "### Type of heating"
   ]
  },
  {
   "cell_type": "code",
   "execution_count": 11,
   "metadata": {},
   "outputs": [
    {
     "data": {
      "text/html": [
       "<div>\n",
       "<style scoped>\n",
       "    .dataframe tbody tr th:only-of-type {\n",
       "        vertical-align: middle;\n",
       "    }\n",
       "\n",
       "    .dataframe tbody tr th {\n",
       "        vertical-align: top;\n",
       "    }\n",
       "\n",
       "    .dataframe thead th {\n",
       "        text-align: right;\n",
       "    }\n",
       "</style>\n",
       "<table border=\"1\" class=\"dataframe\">\n",
       "  <thead>\n",
       "    <tr style=\"text-align: right;\">\n",
       "      <th></th>\n",
       "      <th>SalePrice</th>\n",
       "    </tr>\n",
       "    <tr>\n",
       "      <th>Heating</th>\n",
       "      <th></th>\n",
       "    </tr>\n",
       "  </thead>\n",
       "  <tbody>\n",
       "    <tr>\n",
       "      <th>Grav</th>\n",
       "      <td>68350.000000</td>\n",
       "    </tr>\n",
       "    <tr>\n",
       "      <th>Wall</th>\n",
       "      <td>92750.000000</td>\n",
       "    </tr>\n",
       "    <tr>\n",
       "      <th>GasW</th>\n",
       "      <td>167562.785714</td>\n",
       "    </tr>\n",
       "    <tr>\n",
       "      <th>GasA</th>\n",
       "      <td>182529.637363</td>\n",
       "    </tr>\n",
       "  </tbody>\n",
       "</table>\n",
       "</div>"
      ],
      "text/plain": [
       "             SalePrice\n",
       "Heating               \n",
       "Grav      68350.000000\n",
       "Wall      92750.000000\n",
       "GasW     167562.785714\n",
       "GasA     182529.637363"
      ]
     },
     "execution_count": 11,
     "metadata": {},
     "output_type": "execute_result"
    }
   ],
   "source": [
    "sub_df = data[['Heating','SalePrice']]\n",
    "sub_df = sub_df.groupby(['Heating']).mean()\n",
    "sub_df=sub_df.sort_values(by=['SalePrice'])\n",
    "sub_df"
   ]
  },
  {
   "cell_type": "markdown",
   "metadata": {},
   "source": [
    "### Electrical system"
   ]
  },
  {
   "cell_type": "code",
   "execution_count": 12,
   "metadata": {},
   "outputs": [
    {
     "data": {
      "text/html": [
       "<div>\n",
       "<style scoped>\n",
       "    .dataframe tbody tr th:only-of-type {\n",
       "        vertical-align: middle;\n",
       "    }\n",
       "\n",
       "    .dataframe tbody tr th {\n",
       "        vertical-align: top;\n",
       "    }\n",
       "\n",
       "    .dataframe thead th {\n",
       "        text-align: right;\n",
       "    }\n",
       "</style>\n",
       "<table border=\"1\" class=\"dataframe\">\n",
       "  <thead>\n",
       "    <tr style=\"text-align: right;\">\n",
       "      <th></th>\n",
       "      <th>SalePrice</th>\n",
       "    </tr>\n",
       "    <tr>\n",
       "      <th>Electrical</th>\n",
       "      <th></th>\n",
       "    </tr>\n",
       "  </thead>\n",
       "  <tbody>\n",
       "    <tr>\n",
       "      <th>Mix</th>\n",
       "      <td>67000.000000</td>\n",
       "    </tr>\n",
       "    <tr>\n",
       "      <th>FuseP</th>\n",
       "      <td>97333.333333</td>\n",
       "    </tr>\n",
       "    <tr>\n",
       "      <th>FuseF</th>\n",
       "      <td>109217.500000</td>\n",
       "    </tr>\n",
       "    <tr>\n",
       "      <th>FuseA</th>\n",
       "      <td>122005.632353</td>\n",
       "    </tr>\n",
       "    <tr>\n",
       "      <th>SBrkr</th>\n",
       "      <td>188027.139935</td>\n",
       "    </tr>\n",
       "  </tbody>\n",
       "</table>\n",
       "</div>"
      ],
      "text/plain": [
       "                SalePrice\n",
       "Electrical               \n",
       "Mix          67000.000000\n",
       "FuseP        97333.333333\n",
       "FuseF       109217.500000\n",
       "FuseA       122005.632353\n",
       "SBrkr       188027.139935"
      ]
     },
     "execution_count": 12,
     "metadata": {},
     "output_type": "execute_result"
    }
   ],
   "source": [
    "sub_df = data[['Electrical','SalePrice']]\n",
    "sub_df = sub_df.groupby(['Electrical']).mean()\n",
    "sub_df=sub_df.sort_values(by=['SalePrice'])\n",
    "sub_df"
   ]
  },
  {
   "cell_type": "markdown",
   "metadata": {},
   "source": [
    "### Garage location"
   ]
  },
  {
   "cell_type": "code",
   "execution_count": 13,
   "metadata": {},
   "outputs": [
    {
     "data": {
      "text/html": [
       "<div>\n",
       "<style scoped>\n",
       "    .dataframe tbody tr th:only-of-type {\n",
       "        vertical-align: middle;\n",
       "    }\n",
       "\n",
       "    .dataframe tbody tr th {\n",
       "        vertical-align: top;\n",
       "    }\n",
       "\n",
       "    .dataframe thead th {\n",
       "        text-align: right;\n",
       "    }\n",
       "</style>\n",
       "<table border=\"1\" class=\"dataframe\">\n",
       "  <thead>\n",
       "    <tr style=\"text-align: right;\">\n",
       "      <th></th>\n",
       "      <th>SalePrice</th>\n",
       "    </tr>\n",
       "    <tr>\n",
       "      <th>GarageType</th>\n",
       "      <th></th>\n",
       "    </tr>\n",
       "  </thead>\n",
       "  <tbody>\n",
       "    <tr>\n",
       "      <th>CarPort</th>\n",
       "      <td>113983.333333</td>\n",
       "    </tr>\n",
       "    <tr>\n",
       "      <th>Detchd</th>\n",
       "      <td>134515.040441</td>\n",
       "    </tr>\n",
       "    <tr>\n",
       "      <th>2Types</th>\n",
       "      <td>138250.000000</td>\n",
       "    </tr>\n",
       "    <tr>\n",
       "      <th>Basment</th>\n",
       "      <td>165510.333333</td>\n",
       "    </tr>\n",
       "    <tr>\n",
       "      <th>Attchd</th>\n",
       "      <td>203121.320261</td>\n",
       "    </tr>\n",
       "    <tr>\n",
       "      <th>BuiltIn</th>\n",
       "      <td>265713.566667</td>\n",
       "    </tr>\n",
       "  </tbody>\n",
       "</table>\n",
       "</div>"
      ],
      "text/plain": [
       "                SalePrice\n",
       "GarageType               \n",
       "CarPort     113983.333333\n",
       "Detchd      134515.040441\n",
       "2Types      138250.000000\n",
       "Basment     165510.333333\n",
       "Attchd      203121.320261\n",
       "BuiltIn     265713.566667"
      ]
     },
     "execution_count": 13,
     "metadata": {},
     "output_type": "execute_result"
    }
   ],
   "source": [
    "sub_df = data[['GarageType','SalePrice']]\n",
    "sub_df = sub_df.groupby(['GarageType']).mean()\n",
    "sub_df=sub_df.sort_values(by=['SalePrice'])\n",
    "sub_df"
   ]
  },
  {
   "cell_type": "markdown",
   "metadata": {},
   "source": [
    "### Paved driveway"
   ]
  },
  {
   "cell_type": "code",
   "execution_count": 14,
   "metadata": {},
   "outputs": [
    {
     "data": {
      "text/html": [
       "<div>\n",
       "<style scoped>\n",
       "    .dataframe tbody tr th:only-of-type {\n",
       "        vertical-align: middle;\n",
       "    }\n",
       "\n",
       "    .dataframe tbody tr th {\n",
       "        vertical-align: top;\n",
       "    }\n",
       "\n",
       "    .dataframe thead th {\n",
       "        text-align: right;\n",
       "    }\n",
       "</style>\n",
       "<table border=\"1\" class=\"dataframe\">\n",
       "  <thead>\n",
       "    <tr style=\"text-align: right;\">\n",
       "      <th></th>\n",
       "      <th>SalePrice</th>\n",
       "    </tr>\n",
       "    <tr>\n",
       "      <th>PavedDrive</th>\n",
       "      <th></th>\n",
       "    </tr>\n",
       "  </thead>\n",
       "  <tbody>\n",
       "    <tr>\n",
       "      <th>N</th>\n",
       "      <td>111253.774194</td>\n",
       "    </tr>\n",
       "    <tr>\n",
       "      <th>P</th>\n",
       "      <td>131931.818182</td>\n",
       "    </tr>\n",
       "    <tr>\n",
       "      <th>Y</th>\n",
       "      <td>187531.176094</td>\n",
       "    </tr>\n",
       "  </tbody>\n",
       "</table>\n",
       "</div>"
      ],
      "text/plain": [
       "                SalePrice\n",
       "PavedDrive               \n",
       "N           111253.774194\n",
       "P           131931.818182\n",
       "Y           187531.176094"
      ]
     },
     "execution_count": 14,
     "metadata": {},
     "output_type": "execute_result"
    }
   ],
   "source": [
    "sub_df = data[['PavedDrive','SalePrice']]\n",
    "sub_df = sub_df.groupby(['PavedDrive']).mean()\n",
    "sub_df=sub_df.sort_values(by=['SalePrice'])\n",
    "sub_df"
   ]
  },
  {
   "cell_type": "markdown",
   "metadata": {},
   "source": [
    "### Fence quality"
   ]
  },
  {
   "cell_type": "code",
   "execution_count": 15,
   "metadata": {},
   "outputs": [
    {
     "data": {
      "text/html": [
       "<div>\n",
       "<style scoped>\n",
       "    .dataframe tbody tr th:only-of-type {\n",
       "        vertical-align: middle;\n",
       "    }\n",
       "\n",
       "    .dataframe tbody tr th {\n",
       "        vertical-align: top;\n",
       "    }\n",
       "\n",
       "    .dataframe thead th {\n",
       "        text-align: right;\n",
       "    }\n",
       "</style>\n",
       "<table border=\"1\" class=\"dataframe\">\n",
       "  <thead>\n",
       "    <tr style=\"text-align: right;\">\n",
       "      <th></th>\n",
       "      <th>SalePrice</th>\n",
       "    </tr>\n",
       "    <tr>\n",
       "      <th>Fence</th>\n",
       "      <th></th>\n",
       "    </tr>\n",
       "  </thead>\n",
       "  <tbody>\n",
       "    <tr>\n",
       "      <th>MnWw</th>\n",
       "      <td>134268.750000</td>\n",
       "    </tr>\n",
       "    <tr>\n",
       "      <th>GdWo</th>\n",
       "      <td>135866.194444</td>\n",
       "    </tr>\n",
       "    <tr>\n",
       "      <th>MnPrv</th>\n",
       "      <td>143709.366972</td>\n",
       "    </tr>\n",
       "    <tr>\n",
       "      <th>GdPrv</th>\n",
       "      <td>176525.609756</td>\n",
       "    </tr>\n",
       "  </tbody>\n",
       "</table>\n",
       "</div>"
      ],
      "text/plain": [
       "           SalePrice\n",
       "Fence               \n",
       "MnWw   134268.750000\n",
       "GdWo   135866.194444\n",
       "MnPrv  143709.366972\n",
       "GdPrv  176525.609756"
      ]
     },
     "execution_count": 15,
     "metadata": {},
     "output_type": "execute_result"
    }
   ],
   "source": [
    "sub_df = data[['Fence','SalePrice']]\n",
    "sub_df = sub_df.groupby(['Fence']).mean()\n",
    "sub_df=sub_df.sort_values(by=['SalePrice'])\n",
    "sub_df"
   ]
  },
  {
   "cell_type": "markdown",
   "metadata": {},
   "source": [
    "### Miscellaneous feature not covered in other categories"
   ]
  },
  {
   "cell_type": "code",
   "execution_count": 16,
   "metadata": {},
   "outputs": [
    {
     "data": {
      "text/html": [
       "<div>\n",
       "<style scoped>\n",
       "    .dataframe tbody tr th:only-of-type {\n",
       "        vertical-align: middle;\n",
       "    }\n",
       "\n",
       "    .dataframe tbody tr th {\n",
       "        vertical-align: top;\n",
       "    }\n",
       "\n",
       "    .dataframe thead th {\n",
       "        text-align: right;\n",
       "    }\n",
       "</style>\n",
       "<table border=\"1\" class=\"dataframe\">\n",
       "  <thead>\n",
       "    <tr style=\"text-align: right;\">\n",
       "      <th></th>\n",
       "      <th>SalePrice</th>\n",
       "    </tr>\n",
       "    <tr>\n",
       "      <th>MiscFeature</th>\n",
       "      <th></th>\n",
       "    </tr>\n",
       "  </thead>\n",
       "  <tbody>\n",
       "    <tr>\n",
       "      <th>Othr</th>\n",
       "      <td>94000.000</td>\n",
       "    </tr>\n",
       "    <tr>\n",
       "      <th>Shed</th>\n",
       "      <td>146916.075</td>\n",
       "    </tr>\n",
       "    <tr>\n",
       "      <th>Gar2</th>\n",
       "      <td>151500.000</td>\n",
       "    </tr>\n",
       "  </tbody>\n",
       "</table>\n",
       "</div>"
      ],
      "text/plain": [
       "              SalePrice\n",
       "MiscFeature            \n",
       "Othr          94000.000\n",
       "Shed         146916.075\n",
       "Gar2         151500.000"
      ]
     },
     "execution_count": 16,
     "metadata": {},
     "output_type": "execute_result"
    }
   ],
   "source": [
    "sub_df = data[['MiscFeature','SalePrice']]\n",
    "sub_df = sub_df.groupby(['MiscFeature']).mean()\n",
    "sub_df=sub_df.sort_values(by=['SalePrice'])\n",
    "sub_df"
   ]
  },
  {
   "cell_type": "code",
   "execution_count": 17,
   "metadata": {},
   "outputs": [
    {
     "data": {
      "text/html": [
       "<div>\n",
       "<style scoped>\n",
       "    .dataframe tbody tr th:only-of-type {\n",
       "        vertical-align: middle;\n",
       "    }\n",
       "\n",
       "    .dataframe tbody tr th {\n",
       "        vertical-align: top;\n",
       "    }\n",
       "\n",
       "    .dataframe thead th {\n",
       "        text-align: right;\n",
       "    }\n",
       "</style>\n",
       "<table border=\"1\" class=\"dataframe\">\n",
       "  <thead>\n",
       "    <tr style=\"text-align: right;\">\n",
       "      <th></th>\n",
       "      <th>Gar2</th>\n",
       "      <th>Othr</th>\n",
       "      <th>Shed</th>\n",
       "    </tr>\n",
       "  </thead>\n",
       "  <tbody>\n",
       "    <tr>\n",
       "      <th>0</th>\n",
       "      <td>0</td>\n",
       "      <td>0</td>\n",
       "      <td>0</td>\n",
       "    </tr>\n",
       "    <tr>\n",
       "      <th>1</th>\n",
       "      <td>0</td>\n",
       "      <td>0</td>\n",
       "      <td>0</td>\n",
       "    </tr>\n",
       "    <tr>\n",
       "      <th>2</th>\n",
       "      <td>0</td>\n",
       "      <td>0</td>\n",
       "      <td>0</td>\n",
       "    </tr>\n",
       "    <tr>\n",
       "      <th>3</th>\n",
       "      <td>0</td>\n",
       "      <td>0</td>\n",
       "      <td>0</td>\n",
       "    </tr>\n",
       "    <tr>\n",
       "      <th>4</th>\n",
       "      <td>0</td>\n",
       "      <td>0</td>\n",
       "      <td>0</td>\n",
       "    </tr>\n",
       "  </tbody>\n",
       "</table>\n",
       "</div>"
      ],
      "text/plain": [
       "   Gar2  Othr  Shed\n",
       "0     0     0     0\n",
       "1     0     0     0\n",
       "2     0     0     0\n",
       "3     0     0     0\n",
       "4     0     0     0"
      ]
     },
     "execution_count": 17,
     "metadata": {},
     "output_type": "execute_result"
    }
   ],
   "source": [
    "sub_df = data[['MiscFeature','SalePrice']]\n",
    "dummy = pd.get_dummies(sub_df['MiscFeature'])\n",
    "dummy.head()"
   ]
  },
  {
   "cell_type": "markdown",
   "metadata": {},
   "source": [
    "# Type of sale"
   ]
  },
  {
   "cell_type": "code",
   "execution_count": 18,
   "metadata": {},
   "outputs": [
    {
     "data": {
      "text/html": [
       "<div>\n",
       "<style scoped>\n",
       "    .dataframe tbody tr th:only-of-type {\n",
       "        vertical-align: middle;\n",
       "    }\n",
       "\n",
       "    .dataframe tbody tr th {\n",
       "        vertical-align: top;\n",
       "    }\n",
       "\n",
       "    .dataframe thead th {\n",
       "        text-align: right;\n",
       "    }\n",
       "</style>\n",
       "<table border=\"1\" class=\"dataframe\">\n",
       "  <thead>\n",
       "    <tr style=\"text-align: right;\">\n",
       "      <th></th>\n",
       "      <th>SalePrice</th>\n",
       "    </tr>\n",
       "    <tr>\n",
       "      <th>SaleType</th>\n",
       "      <th></th>\n",
       "    </tr>\n",
       "  </thead>\n",
       "  <tbody>\n",
       "    <tr>\n",
       "      <th>ConLD</th>\n",
       "      <td>133271.428571</td>\n",
       "    </tr>\n",
       "    <tr>\n",
       "      <th>COD</th>\n",
       "      <td>136272.580645</td>\n",
       "    </tr>\n",
       "    <tr>\n",
       "      <th>ConLw</th>\n",
       "      <td>143625.000000</td>\n",
       "    </tr>\n",
       "    <tr>\n",
       "      <th>Oth</th>\n",
       "      <td>150000.000000</td>\n",
       "    </tr>\n",
       "    <tr>\n",
       "      <th>WD</th>\n",
       "      <td>173461.063636</td>\n",
       "    </tr>\n",
       "    <tr>\n",
       "      <th>ConLI</th>\n",
       "      <td>200390.000000</td>\n",
       "    </tr>\n",
       "    <tr>\n",
       "      <th>CWD</th>\n",
       "      <td>243450.000000</td>\n",
       "    </tr>\n",
       "    <tr>\n",
       "      <th>Con</th>\n",
       "      <td>269600.000000</td>\n",
       "    </tr>\n",
       "    <tr>\n",
       "      <th>New</th>\n",
       "      <td>280464.157303</td>\n",
       "    </tr>\n",
       "  </tbody>\n",
       "</table>\n",
       "</div>"
      ],
      "text/plain": [
       "              SalePrice\n",
       "SaleType               \n",
       "ConLD     133271.428571\n",
       "COD       136272.580645\n",
       "ConLw     143625.000000\n",
       "Oth       150000.000000\n",
       "WD        173461.063636\n",
       "ConLI     200390.000000\n",
       "CWD       243450.000000\n",
       "Con       269600.000000\n",
       "New       280464.157303"
      ]
     },
     "execution_count": 18,
     "metadata": {},
     "output_type": "execute_result"
    }
   ],
   "source": [
    "sub_df = data[['SaleType','SalePrice']]\n",
    "sub_df = sub_df.groupby(['SaleType']).mean()\n",
    "sub_df=sub_df.sort_values(by=['SalePrice'])\n",
    "sub_df"
   ]
  },
  {
   "cell_type": "code",
   "execution_count": 19,
   "metadata": {},
   "outputs": [
    {
     "data": {
      "text/plain": [
       "<matplotlib.collections.PathCollection at 0x25fce946888>"
      ]
     },
     "execution_count": 19,
     "metadata": {},
     "output_type": "execute_result"
    },
    {
     "data": {
      "image/png": "[encoded data removed]",
      "text/plain": [
       "<Figure size 432x288 with 1 Axes>"
      ]
     },
     "metadata": {
      "needs_background": "light"
     },
     "output_type": "display_data"
    }
   ],
   "source": [
    "sub_df = data[['SaleType','SalePrice']]\n",
    "x = sub_df.SaleType\n",
    "y= sub_df.SalePrice\n",
    "plt.scatter(x,y)"
   ]
  },
  {
   "cell_type": "markdown",
   "metadata": {},
   "source": [
    "### Condition of sale"
   ]
  },
  {
   "cell_type": "code",
   "execution_count": 20,
   "metadata": {},
   "outputs": [
    {
     "data": {
      "text/html": [
       "<div>\n",
       "<style scoped>\n",
       "    .dataframe tbody tr th:only-of-type {\n",
       "        vertical-align: middle;\n",
       "    }\n",
       "\n",
       "    .dataframe tbody tr th {\n",
       "        vertical-align: top;\n",
       "    }\n",
       "\n",
       "    .dataframe thead th {\n",
       "        text-align: right;\n",
       "    }\n",
       "</style>\n",
       "<table border=\"1\" class=\"dataframe\">\n",
       "  <thead>\n",
       "    <tr style=\"text-align: right;\">\n",
       "      <th></th>\n",
       "      <th>SalePrice</th>\n",
       "    </tr>\n",
       "    <tr>\n",
       "      <th>SaleCondition</th>\n",
       "      <th></th>\n",
       "    </tr>\n",
       "  </thead>\n",
       "  <tbody>\n",
       "    <tr>\n",
       "      <th>AdjLand</th>\n",
       "      <td>104125.000000</td>\n",
       "    </tr>\n",
       "    <tr>\n",
       "      <th>Abnorml</th>\n",
       "      <td>136484.100000</td>\n",
       "    </tr>\n",
       "    <tr>\n",
       "      <th>Family</th>\n",
       "      <td>145571.428571</td>\n",
       "    </tr>\n",
       "    <tr>\n",
       "      <th>Alloca</th>\n",
       "      <td>162460.000000</td>\n",
       "    </tr>\n",
       "    <tr>\n",
       "      <th>Normal</th>\n",
       "      <td>176279.626202</td>\n",
       "    </tr>\n",
       "    <tr>\n",
       "      <th>Partial</th>\n",
       "      <td>277135.274725</td>\n",
       "    </tr>\n",
       "  </tbody>\n",
       "</table>\n",
       "</div>"
      ],
      "text/plain": [
       "                   SalePrice\n",
       "SaleCondition               \n",
       "AdjLand        104125.000000\n",
       "Abnorml        136484.100000\n",
       "Family         145571.428571\n",
       "Alloca         162460.000000\n",
       "Normal         176279.626202\n",
       "Partial        277135.274725"
      ]
     },
     "execution_count": 20,
     "metadata": {},
     "output_type": "execute_result"
    }
   ],
   "source": [
    "sub_df = data[['SaleCondition','SalePrice']]\n",
    "sub_df = sub_df.groupby(['SaleCondition']).mean()\n",
    "sub_df=sub_df.sort_values(by=['SalePrice'])\n",
    "sub_df"
   ]
  },
  {
   "cell_type": "code",
   "execution_count": 21,
   "metadata": {},
   "outputs": [
    {
     "data": {
      "text/plain": [
       "<matplotlib.collections.PathCollection at 0x25fce946988>"
      ]
     },
     "execution_count": 21,
     "metadata": {},
     "output_type": "execute_result"
    },
    {
     "data": {
      "image/png": "[encoded data removed]",
      "text/plain": [
       "<Figure size 432x288 with 1 Axes>"
      ]
     },
     "metadata": {
      "needs_background": "light"
     },
     "output_type": "display_data"
    }
   ],
   "source": [
    "sub_df = data[['SaleCondition','SalePrice']]\n",
    "x = sub_df.SaleCondition\n",
    "y= sub_df.SalePrice\n",
    "plt.scatter(x,y)"
   ]
  },
  {
   "cell_type": "markdown",
   "metadata": {},
   "source": [
    "### Distance from centre"
   ]
  },
  {
   "cell_type": "code",
   "execution_count": 22,
   "metadata": {},
   "outputs": [
    {
     "name": "stderr",
     "output_type": "stream",
     "text": [
      "C:\\Users\\Raffaele\\Anaconda3\\envs\\py3_TF2\\lib\\site-packages\\pandas\\core\\indexing.py:376: SettingWithCopyWarning: \n",
      "A value is trying to be set on a copy of a slice from a DataFrame.\n",
      "Try using .loc[row_indexer,col_indexer] = value instead\n",
      "\n",
      "See the caveats in the documentation: http://pandas.pydata.org/pandas-docs/stable/user_guide/indexing.html#returning-a-view-versus-a-copy\n",
      "  self.obj[key] = _infer_fill_value(value)\n",
      "C:\\Users\\Raffaele\\Anaconda3\\envs\\py3_TF2\\lib\\site-packages\\pandas\\core\\indexing.py:494: SettingWithCopyWarning: \n",
      "A value is trying to be set on a copy of a slice from a DataFrame.\n",
      "Try using .loc[row_indexer,col_indexer] = value instead\n",
      "\n",
      "See the caveats in the documentation: http://pandas.pydata.org/pandas-docs/stable/user_guide/indexing.html#returning-a-view-versus-a-copy\n",
      "  self.obj[item] = s\n"
     ]
    },
    {
     "data": {
      "text/html": [
       "<div>\n",
       "<style scoped>\n",
       "    .dataframe tbody tr th:only-of-type {\n",
       "        vertical-align: middle;\n",
       "    }\n",
       "\n",
       "    .dataframe tbody tr th {\n",
       "        vertical-align: top;\n",
       "    }\n",
       "\n",
       "    .dataframe thead th {\n",
       "        text-align: right;\n",
       "    }\n",
       "</style>\n",
       "<table border=\"1\" class=\"dataframe\">\n",
       "  <thead>\n",
       "    <tr style=\"text-align: right;\">\n",
       "      <th></th>\n",
       "      <th>SalePrice</th>\n",
       "      <th>Lat</th>\n",
       "      <th>Lon</th>\n",
       "    </tr>\n",
       "    <tr>\n",
       "      <th>Neighborhood</th>\n",
       "      <th></th>\n",
       "      <th></th>\n",
       "      <th></th>\n",
       "    </tr>\n",
       "  </thead>\n",
       "  <tbody>\n",
       "    <tr>\n",
       "      <th>MeadowV</th>\n",
       "      <td>94990.909091</td>\n",
       "      <td>42.026770</td>\n",
       "      <td>-93.617055</td>\n",
       "    </tr>\n",
       "    <tr>\n",
       "      <th>IDOTRR</th>\n",
       "      <td>99423.448276</td>\n",
       "      <td>42.022753</td>\n",
       "      <td>-93.622259</td>\n",
       "    </tr>\n",
       "    <tr>\n",
       "      <th>BrDale</th>\n",
       "      <td>102890.000000</td>\n",
       "      <td>42.052547</td>\n",
       "      <td>-93.628226</td>\n",
       "    </tr>\n",
       "    <tr>\n",
       "      <th>BrkSide</th>\n",
       "      <td>123731.097561</td>\n",
       "      <td>42.026770</td>\n",
       "      <td>-93.617055</td>\n",
       "    </tr>\n",
       "    <tr>\n",
       "      <th>Edwards</th>\n",
       "      <td>128632.835821</td>\n",
       "      <td>42.015945</td>\n",
       "      <td>-93.685633</td>\n",
       "    </tr>\n",
       "    <tr>\n",
       "      <th>OldTown</th>\n",
       "      <td>129708.135802</td>\n",
       "      <td>43.313575</td>\n",
       "      <td>-95.144162</td>\n",
       "    </tr>\n",
       "    <tr>\n",
       "      <th>Blueste</th>\n",
       "      <td>137500.000000</td>\n",
       "      <td>42.011170</td>\n",
       "      <td>-93.645063</td>\n",
       "    </tr>\n",
       "    <tr>\n",
       "      <th>Sawyer</th>\n",
       "      <td>138620.232143</td>\n",
       "      <td>42.033924</td>\n",
       "      <td>-93.676648</td>\n",
       "    </tr>\n",
       "    <tr>\n",
       "      <th>SWISU</th>\n",
       "      <td>143988.933333</td>\n",
       "      <td>42.027910</td>\n",
       "      <td>-93.644644</td>\n",
       "    </tr>\n",
       "    <tr>\n",
       "      <th>NPkVill</th>\n",
       "      <td>144500.000000</td>\n",
       "      <td>41.563543</td>\n",
       "      <td>-90.574933</td>\n",
       "    </tr>\n",
       "    <tr>\n",
       "      <th>NAmes</th>\n",
       "      <td>146676.740260</td>\n",
       "      <td>42.015096</td>\n",
       "      <td>-93.697983</td>\n",
       "    </tr>\n",
       "    <tr>\n",
       "      <th>Mitchel</th>\n",
       "      <td>163101.058824</td>\n",
       "      <td>41.990354</td>\n",
       "      <td>-93.601349</td>\n",
       "    </tr>\n",
       "    <tr>\n",
       "      <th>SawyerW</th>\n",
       "      <td>184380.695652</td>\n",
       "      <td>42.033924</td>\n",
       "      <td>-93.676648</td>\n",
       "    </tr>\n",
       "    <tr>\n",
       "      <th>Gilbert</th>\n",
       "      <td>190384.884615</td>\n",
       "      <td>42.106929</td>\n",
       "      <td>-93.649663</td>\n",
       "    </tr>\n",
       "    <tr>\n",
       "      <th>NWAmes</th>\n",
       "      <td>191367.500000</td>\n",
       "      <td>42.015096</td>\n",
       "      <td>-93.697983</td>\n",
       "    </tr>\n",
       "    <tr>\n",
       "      <th>Blmngtn</th>\n",
       "      <td>194255.923077</td>\n",
       "      <td>42.055627</td>\n",
       "      <td>-93.619566</td>\n",
       "    </tr>\n",
       "    <tr>\n",
       "      <th>CollgCr</th>\n",
       "      <td>196049.184466</td>\n",
       "      <td>42.023067</td>\n",
       "      <td>-93.650474</td>\n",
       "    </tr>\n",
       "    <tr>\n",
       "      <th>Crawfor</th>\n",
       "      <td>201091.096774</td>\n",
       "      <td>42.028029</td>\n",
       "      <td>-93.607151</td>\n",
       "    </tr>\n",
       "    <tr>\n",
       "      <th>ClearCr</th>\n",
       "      <td>209210.086957</td>\n",
       "      <td>41.994591</td>\n",
       "      <td>-93.261668</td>\n",
       "    </tr>\n",
       "    <tr>\n",
       "      <th>Somerst</th>\n",
       "      <td>228595.000000</td>\n",
       "      <td>42.049758</td>\n",
       "      <td>-93.639465</td>\n",
       "    </tr>\n",
       "    <tr>\n",
       "      <th>Timber</th>\n",
       "      <td>236702.000000</td>\n",
       "      <td>41.999613</td>\n",
       "      <td>-93.649627</td>\n",
       "    </tr>\n",
       "    <tr>\n",
       "      <th>Veenker</th>\n",
       "      <td>240062.500000</td>\n",
       "      <td>42.037956</td>\n",
       "      <td>-93.650766</td>\n",
       "    </tr>\n",
       "    <tr>\n",
       "      <th>StoneBr</th>\n",
       "      <td>314219.700000</td>\n",
       "      <td>42.061003</td>\n",
       "      <td>-93.632596</td>\n",
       "    </tr>\n",
       "    <tr>\n",
       "      <th>NoRidge</th>\n",
       "      <td>321717.600000</td>\n",
       "      <td>42.057402</td>\n",
       "      <td>-93.658315</td>\n",
       "    </tr>\n",
       "    <tr>\n",
       "      <th>NridgHt</th>\n",
       "      <td>325855.032787</td>\n",
       "      <td>42.060236</td>\n",
       "      <td>-93.649822</td>\n",
       "    </tr>\n",
       "  </tbody>\n",
       "</table>\n",
       "</div>"
      ],
      "text/plain": [
       "                  SalePrice        Lat        Lon\n",
       "Neighborhood                                     \n",
       "MeadowV        94990.909091  42.026770 -93.617055\n",
       "IDOTRR         99423.448276  42.022753 -93.622259\n",
       "BrDale        102890.000000  42.052547 -93.628226\n",
       "BrkSide       123731.097561  42.026770 -93.617055\n",
       "Edwards       128632.835821  42.015945 -93.685633\n",
       "OldTown       129708.135802  43.313575 -95.144162\n",
       "Blueste       137500.000000  42.011170 -93.645063\n",
       "Sawyer        138620.232143  42.033924 -93.676648\n",
       "SWISU         143988.933333  42.027910 -93.644644\n",
       "NPkVill       144500.000000  41.563543 -90.574933\n",
       "NAmes         146676.740260  42.015096 -93.697983\n",
       "Mitchel       163101.058824  41.990354 -93.601349\n",
       "SawyerW       184380.695652  42.033924 -93.676648\n",
       "Gilbert       190384.884615  42.106929 -93.649663\n",
       "NWAmes        191367.500000  42.015096 -93.697983\n",
       "Blmngtn       194255.923077  42.055627 -93.619566\n",
       "CollgCr       196049.184466  42.023067 -93.650474\n",
       "Crawfor       201091.096774  42.028029 -93.607151\n",
       "ClearCr       209210.086957  41.994591 -93.261668\n",
       "Somerst       228595.000000  42.049758 -93.639465\n",
       "Timber        236702.000000  41.999613 -93.649627\n",
       "Veenker       240062.500000  42.037956 -93.650766\n",
       "StoneBr       314219.700000  42.061003 -93.632596\n",
       "NoRidge       321717.600000  42.057402 -93.658315\n",
       "NridgHt       325855.032787  42.060236 -93.649822"
      ]
     },
     "execution_count": 22,
     "metadata": {},
     "output_type": "execute_result"
    }
   ],
   "source": [
    "sub_df = feat[['Neighborhood','SalePrice']]\n",
    "for ii in range(len(sub_df['Neighborhood'])):\n",
    "    sub_df.loc[ii,'Lat']=float(Neighborhood[Neighborhood.Code==data.loc[ii]['Neighborhood']]['Latitude'])\n",
    "    sub_df.loc[ii,'Lon']=float(Neighborhood[Neighborhood.Code==data.loc[ii]['Neighborhood']]['Longitude'])\n",
    "sub_df = sub_df.groupby(['Neighborhood']).mean()\n",
    "sub_df=sub_df.sort_values(by=['SalePrice'])\n",
    "sub_df"
   ]
  },
  {
   "cell_type": "code",
   "execution_count": 23,
   "metadata": {},
   "outputs": [],
   "source": [
    "import gmaps\n",
    "api_key = open('google_api_key.txt','r').read()\n",
    "gmaps.configure(api_key=api_key)"
   ]
  },
  {
   "cell_type": "code",
   "execution_count": 24,
   "metadata": {},
   "outputs": [
    {
     "data": {
      "application/vnd.jupyter.widget-view+json": {
       "model_id": "cefa087270794a1690819218fec15c95",
       "version_major": 2,
       "version_minor": 0
      },
      "text/plain": [
       "Figure(layout=FigureLayout(height='420px'))"
      ]
     },
     "metadata": {},
     "output_type": "display_data"
    }
   ],
   "source": [
    "locations = sub_df[['Lat','Lon']]\n",
    "heat = sub_df['SalePrice']\n",
    "fig= gmaps.figure()\n",
    "fig.add_layer(gmaps.heatmap_layer(locations,weights = heat))\n",
    "fig"
   ]
  },
  {
   "cell_type": "markdown",
   "metadata": {},
   "source": [
    "![Price heatmap](data/map.png)"
   ]
  },
  {
   "cell_type": "code",
   "execution_count": 25,
   "metadata": {},
   "outputs": [
    {
     "data": {
      "text/plain": [
       "<matplotlib.collections.PathCollection at 0x25fceb5a508>"
      ]
     },
     "execution_count": 25,
     "metadata": {},
     "output_type": "execute_result"
    },
    {
     "data": {
      "image/png": "[encoded data removed]",
      "text/plain": [
       "<Figure size 432x288 with 1 Axes>"
      ]
     },
     "metadata": {
      "needs_background": "light"
     },
     "output_type": "display_data"
    }
   ],
   "source": [
    "sub_df = feat[['Distance_from_centre','SalePrice']]\n",
    "x = sub_df.Distance_from_centre\n",
    "y= sub_df.SalePrice\n",
    "plt.scatter(x,y)"
   ]
  },
  {
   "cell_type": "markdown",
   "metadata": {},
   "source": [
    "## Sale Price distribution"
   ]
  },
  {
   "cell_type": "code",
   "execution_count": 118,
   "metadata": {},
   "outputs": [
    {
     "data": {
      "image/png": "[encoded data removed]",
      "text/plain": [
       "<Figure size 432x288 with 1 Axes>"
      ]
     },
     "metadata": {
      "needs_background": "light"
     },
     "output_type": "display_data"
    }
   ],
   "source": [
    "ax=plt.axes()\n",
    "plt.hist(feat['SalePrice'],bins=30,rwidth=0.90,color='blue',alpha=0.5,density =True)\n",
    "plt.xlabel('Sale price',fontsize=15)\n",
    "plt.text(300000,0.7*10**(-5),'Price/house distribution',fontsize=17)\n",
    "ax.set_facecolor('#f0f0f0')\n",
    "\n",
    "mean = np.mean(feat['SalePrice'])\n",
    "variance = np.var(feat['SalePrice'])\n",
    "sigma = np.sqrt(variance)\n",
    "x = np.linspace(min(feat['SalePrice']), max(feat['SalePrice']), 100)\n",
    "\n",
    "#plt.plot(x, scs.norm.pdf(x, mean, sigma))\n",
    "a, loc, scale = stats.skewnorm.fit(feat['SalePrice'])\n",
    "fitted=stats.skewnorm.pdf(x, a, loc, scale)\n",
    "mean, var, skew, kurt = stats.skewnorm.stats(a, moments='mvsk')\n",
    "plt.text(400000,0.3*10**(-5),'Skewness: '+str(round(float(skew),3)),fontsize=12)\n",
    "plt.plot(x, fitted,color='black')\n",
    "\n",
    "plt.savefig('data/SalePrice_hist.png',bbox_inches='tight')\n",
    "\n",
    "plt.show()"
   ]
  }
 ],
 "metadata": {
  "kernelspec": {
   "display_name": "Python 3",
   "language": "python",
   "name": "python3"
  },
  "language_info": {
   "codemirror_mode": {
    "name": "ipython",
    "version": 3
   },
   "file_extension": ".py",
   "mimetype": "text/x-python",
   "name": "python",
   "nbconvert_exporter": "python",
   "pygments_lexer": "ipython3",
   "version": "3.7.6"
  }
 },
 "nbformat": 4,
 "nbformat_minor": 4
}
