{
 "cells": [
  {
   "cell_type": "markdown",
   "metadata": {},
   "source": [
    "# Predicting the housing price - Preprocessing and Prediction module prototype\n",
    "\n",
    "List of functions and description."
   ]
  },
  {
   "cell_type": "code",
   "execution_count": 22,
   "metadata": {},
   "outputs": [],
   "source": [
    "import pandas as pd\n",
    "import numpy as np\n",
    "from sklearn.decomposition import PCA\n",
    "from sklearn.preprocessing import MinMaxScaler\n",
    "import pickle"
   ]
  },
  {
   "cell_type": "markdown",
   "metadata": {},
   "source": [
    "### Data preparation\n",
    "\n",
    "example:\n",
    "\n",
    "_data= pd.read_csv('data/train.csv')  \n",
    "preprocessed_data = pthp_dp.p_h_p_data_handling(data)  \n",
    "be_feat_data =BE_feat_selection(preprocessed_data)_"
   ]
  },
  {
   "cell_type": "code",
   "execution_count": 19,
   "metadata": {},
   "outputs": [],
   "source": [
    "def p_h_p_data_handling(data):\n",
    "    Neighborhood = pd.read_csv('data/Neighborhood.coordinates.csv')\n",
    "    Neighborhood=Neighborhood.drop('Unnamed: 0',axis=1)\n",
    "    \n",
    "    MSZoning = {'A':1,'C':2,'C (all)':2,'FV':3,'I':4,'RH':5,'RL':6,'RP':7,'RM':8}\n",
    "    Street = {'Grvl':1,'Pave':2,'unknown':0}\n",
    "    LotShape= {'Reg':0,'IR1':1,'IR2':2,'IR3':3}\n",
    "    LandContour={'Lvl':0,'Bnk':1,'HLS':2,'Low':3}\n",
    "    Utilities = {'AllPub':0,'NoSewr':1,'NoSeWa':2,'ELO':3}\n",
    "    LotConfig= {'Inside':0,'Corner':1,'CulDSac':2,'FR2':3,'FR3':4}\n",
    "    LandSlope ={'Gtl':0,'Mod':1,'Sev':2}\n",
    "    Condition = {'PosN':1,'PosA':1,'Norm':0,'Artery':-1,'Feedr':-1,'RRNn':-1,'RRAn':-1,'RRNe':-1,'RRAe':-1}\n",
    "    BldgType ={'Twnhs':0,'TwnhsI':0,'TwnhsE':1,'Duplex':2,'2fmCon':3,'1Fam':4}\n",
    "\n",
    "    HouseStyle ={'SLvl':4,'1Story':6,'1.5Fin':3,'1.5Unf':1.5,'SFoyer':2,'2Story':7,'2.5Fin':8,'2.5Unf':7.5}\n",
    "    RoofStyle={'Flat':4,'Shed':0,'Gable':2,'Hip':5,'Gambrel':1,'Mansard':3}\n",
    "    RoofMatl = {'Membran':5,'Tar&Grv':1,'WdShake':4,'WdShngl':6,'Metal':2,'ClyTile':0,'CompShg':3,'Roll':-1}\n",
    "    Exterior1st={'CBlock':0,'Other':0,'PreCast':0,'Stone':0,'BrkComm':1,'Brk Cmn':1,'AsphShn':2,'AsbShng':3,'ImStucc':4,'Stucco':4,'Wd Sdng':5,'MetalSd':6,'HdBoard':7,'Wd Shng':8,'WdShing':8,'Plywood':9,'BrkFace':10,'VinylSd':11,'CemntBd':12,'CmentBd':12}\n",
    "    MasVnrType={'BrkCmn':1,'BrkFace':3,'CBlock':0,'None':2,'Stone':4}\n",
    "    ExterQual={'Fa':2,'Gd':4,'Po':1,'TA':3,'Ex':5}\n",
    "    Foundation={'BrkTil':2,'CBlock':4,'Slab':1,'Wood':3,'Stone':5,'PConc':6}\n",
    "    BsmtQC={'Po':1,'TA':3,'NA':0,'Fa':2,'Gd':4,'Ex':5}\n",
    "    BsmtExposure={'No':1,'Av':3,'NA':0,'Mn':2,'Gd':4}\n",
    "    BsmtFinType1 ={'NA':0,'Unf':1,'LwQ':2,'Rec':3,'BLQ':4,'ALQ':5,'GLQ':6}\n",
    "    Heating ={'Floor':0,'Grav':1,'Wall':2,'GasW':3,'GasA':4,'OthW':0}\n",
    "    HeatingQC ={'Po':1,'Fa':2,'TA':3,'Gd':4,'Ex':5}\n",
    "    CentralAir={'Y':1,'N':0}\n",
    "    Electrical={'Mix':1,'FuseP':2,'FuseF':3,'FuseA':4,'SBrkr':5,'NA':0}\n",
    "    KitchenQual={'Po':1,'Fa':2,'TA':3,'Gd':4,'Ex':5}\n",
    "    Functional= {'Typ':0,'Min1':1,'Min2':2,'Mod':3,'Maj1':4,'Maj2':5,'Sev':6,'Sal':7}\n",
    "    FireplaceQu= {'NA':0,'Po':1,'Fa':2,'TA':3,'Gd':4,'Ex':5}\n",
    "    GarageType = {'NA':0,'CarPort':1,'Detchd':2,'2Types':3,'Basment':4,'Attchd':5,'BuiltIn':6}\n",
    "    GarageFinish = {'NA':0,'Unf':1,'RFn':2,'Fin':3}\n",
    "    GarageQual= {'NA':0,'Po':1,'Fa':2,'TA':3,'Gd':4,'Ex':5}\n",
    "    PavedDrive={'N':0,'P':1,'Y':2}\n",
    "    PoolQC= {'NA':0,'Fa':1,'TA':2,'Gd':3,'Ex':4}\n",
    "    Fence= {'NA':0,'MnWw':1,'GdWo':2,'MnPrv':3,'GdPrv':4}\n",
    "\n",
    "    data['MSZoning']=data['MSZoning'].apply(lambda x: MSZoning[x])\n",
    "    data.LotFrontage=data.LotFrontage.fillna(0)\n",
    "    data['Street']=data['Street'].apply(lambda x: Street[x])\n",
    "    data.Alley=data.Alley.fillna('unknown')\n",
    "    data['Alley']=data['Alley'].apply(lambda x: Street[x])\n",
    "    data['LotShape']=data['LotShape'].apply(lambda x: LotShape[x])\n",
    "    data['LandContour']=data['LandContour'].apply(lambda x: LandContour[x])\n",
    "    data['Utilities']=data['Utilities'].apply(lambda x: Utilities[x])\n",
    "    data['LotConfig']=data['LotConfig'].apply(lambda x: LotConfig[x])\n",
    "    data['LandSlope']=data['LandSlope'].apply(lambda x: LandSlope[x])\n",
    "    for ii in range(len(data['Neighborhood'])):\n",
    "        data.loc[ii,'Distance_from_centre']=float(Neighborhood[Neighborhood.Code==data.loc[ii]['Neighborhood']]['Distance_from_centre'])\n",
    "    data['Condition1']=data['Condition1'].apply(lambda x: Condition[x])\n",
    "    data['Condition2']=data['Condition2'].apply(lambda x: Condition[x])\n",
    "    data['BldgType']=data['BldgType'].apply(lambda x: BldgType[x])\n",
    "    data['HouseStyle']=data['HouseStyle'].apply(lambda x: HouseStyle[x])\n",
    "    data['YearBuilt']=data['YearBuilt'].apply(lambda x: 2020-x)\n",
    "    data['YearRemodAdd']=data['YearRemodAdd'].apply(lambda x: 2020-x)\n",
    "    data['RoofStyle']=data['RoofStyle'].apply(lambda x: RoofStyle[x])\n",
    "    data['RoofMatl']=data['RoofMatl'].apply(lambda x: RoofMatl[x])\n",
    "    data['Exterior1st']=data['Exterior1st'].apply(lambda x: Exterior1st[x])\n",
    "    data['Exterior2nd']=data['Exterior2nd'].apply(lambda x: Exterior1st[x])\n",
    "    data.MasVnrType=data.MasVnrType.fillna('None')\n",
    "    data['MasVnrType']=data['MasVnrType'].apply(lambda x: MasVnrType[x])\n",
    "    data['ExterQual']=data['ExterQual'].apply(lambda x: ExterQual[x])\n",
    "    data['ExterCond']=data['ExterCond'].apply(lambda x: ExterQual[x])\n",
    "    data['Foundation']=data['Foundation'].apply(lambda x: Foundation[x])\n",
    "    data.BsmtQual=data.BsmtQual.fillna('NA')\n",
    "    data['BsmtQual']=data['BsmtQual'].apply(lambda x: BsmtQC[x])\n",
    "    data.BsmtCond=data.BsmtCond.fillna('NA')\n",
    "    data['BsmtCond']=data['BsmtCond'].apply(lambda x: BsmtQC[x])\n",
    "    data.BsmtExposure=data.BsmtExposure.fillna('NA')\n",
    "    data['BsmtExposure']=data['BsmtExposure'].apply(lambda x: BsmtExposure[x])\n",
    "    data.BsmtFinType1=data.BsmtFinType1.fillna('NA')\n",
    "    data['BsmtFinType1']=data['BsmtFinType1'].apply(lambda x: BsmtFinType1[x])\n",
    "    data.BsmtFinType2=data.BsmtFinType2.fillna('NA')\n",
    "    data['BsmtFinType2']=data['BsmtFinType2'].apply(lambda x: BsmtFinType1[x])\n",
    "    data['Heating']=data['Heating'].apply(lambda x: Heating[x])\n",
    "    data['HeatingQC']=data['HeatingQC'].apply(lambda x: HeatingQC[x])\n",
    "    data['CentralAir']=data['CentralAir'].apply(lambda x: CentralAir[x])\n",
    "    data.Electrical=data.Electrical.fillna('NA')\n",
    "    data['Electrical']=data['Electrical'].apply(lambda x: Electrical[x])\n",
    "    data['KitchenQual']=data['KitchenQual'].apply(lambda x: KitchenQual[x])\n",
    "    data['Functional']=data['Functional'].apply(lambda x: Functional[x])\n",
    "    data.FireplaceQu=data.FireplaceQu.fillna('NA')\n",
    "    data['FireplaceQu']=data['FireplaceQu'].apply(lambda x: FireplaceQu[x])\n",
    "    data.GarageType=data.GarageType.fillna('NA')\n",
    "    data['GarageType']=data['GarageType'].apply(lambda x: GarageType[x])\n",
    "    data['GarageYrBlt']=data['GarageYrBlt'].apply(lambda x: 2020-x)\n",
    "    data.GarageFinish=data.GarageFinish.fillna('NA')\n",
    "    data['GarageFinish']=data['GarageFinish'].apply(lambda x: GarageFinish[x])\n",
    "    data.GarageQual=data.GarageQual.fillna('NA')\n",
    "    data['GarageQual']=data['GarageQual'].apply(lambda x: GarageQual[x])\n",
    "    data.GarageCond=data.GarageCond.fillna('NA')\n",
    "    data['GarageCond']=data['GarageCond'].apply(lambda x: GarageQual[x])\n",
    "    data['PavedDrive']=data['PavedDrive'].apply(lambda x: PavedDrive[x])\n",
    "    data.PoolQC=data.PoolQC.fillna('NA')\n",
    "    data['PoolQC']=data['PoolQC'].apply(lambda x: PoolQC[x])\n",
    "    data.Fence=data.Fence.fillna('NA')\n",
    "    data['Fence']=data['Fence'].apply(lambda x: Fence[x])\n",
    "    MiscFeature = pd.get_dummies(data['MiscFeature'])\n",
    "    data = pd.concat([data,MiscFeature],axis=1)\n",
    "    data=data.drop('MiscFeature',axis=1)\n",
    "    data=data.drop('MoSold',axis=1)\n",
    "    data['YrSold']=data['YrSold'].apply(lambda x: 2020-x)\n",
    "    #data['New']=data['SaleType'].apply(lambda x: if x=='New': 1 else: 0)\n",
    "    data.loc[data['SaleType']=='New','New']=1\n",
    "    data.New=data.New.fillna(0)\n",
    "    data=data.drop('SaleType',axis=1)\n",
    "    SaleCondition= pd.get_dummies(data['SaleCondition'])\n",
    "    data = pd.concat([data,SaleCondition],axis=1)\n",
    "    data=data.drop('SaleCondition',axis=1)\n",
    "    \n",
    "    data=data.drop('Neighborhood',axis=1)\n",
    "\n",
    "    return data"
   ]
  },
  {
   "cell_type": "markdown",
   "metadata": {},
   "source": [
    "## Feature engineering\n",
    "### Selecting variables correlated with target"
   ]
  },
  {
   "cell_type": "code",
   "execution_count": 4,
   "metadata": {},
   "outputs": [],
   "source": [
    "def pearson_corr_skimming(preprocessed_ds):\n",
    "    relevant_features=['OverallQual','YearBuilt', 'YearRemodAdd', 'ExterQual', 'BsmtQual', 'TotalBsmtSF', '1stFlrSF', 'GrLivArea', 'FullBath','KitchenQual','TotRmsAbvGrd','FireplaceQu','GarageFinish','GarageCars','GarageArea','SalePrice']\n",
    "    skimmed_ds = preprocessed_ds[relevant_features]\n",
    "    return skimmed_ds"
   ]
  },
  {
   "cell_type": "markdown",
   "metadata": {},
   "source": [
    "### Removing redundant variables (i.e. highly correlated to others)"
   ]
  },
  {
   "cell_type": "code",
   "execution_count": 5,
   "metadata": {},
   "outputs": [],
   "source": [
    "def redundant_var_remove(preprocessed_ds):\n",
    "    toss = ['GarageYrBlt', 'Exterior2nd', '1stFlrSF', 'TotRmsAbvGrd', 'FireplaceQu', 'GarageArea', 'GarageCond', 'Gar2', 'Partial']\n",
    "    redundancy_removed_ds = preprocessed_ds.drop(toss, axis=1)\n",
    "    return redundancy_removed_ds"
   ]
  },
  {
   "cell_type": "markdown",
   "metadata": {},
   "source": [
    "### Dimensionality reduction through PCA"
   ]
  },
  {
   "cell_type": "code",
   "execution_count": 49,
   "metadata": {},
   "outputs": [],
   "source": [
    "def pca_reduction(preprocessed_ds):\n",
    "    \n",
    "    X_from_feat_eng_col=set(['MSSubClass', 'MSZoning', 'LotFrontage', 'LotArea', 'Street', 'Alley',\n",
    "       'LotShape', 'LandContour', 'Utilities', 'LotConfig', 'LandSlope',\n",
    "       'Condition1', 'Condition2', 'BldgType', 'HouseStyle', 'OverallQual',\n",
    "       'OverallCond', 'YearBuilt', 'YearRemodAdd', 'RoofStyle', 'RoofMatl',\n",
    "       'Exterior1st', 'Exterior2nd', 'MasVnrType', 'MasVnrArea', 'ExterQual',\n",
    "       'ExterCond', 'Foundation', 'BsmtQual', 'BsmtCond', 'BsmtExposure',\n",
    "       'BsmtFinType1', 'BsmtFinSF1', 'BsmtFinType2', 'BsmtFinSF2', 'BsmtUnfSF',\n",
    "       'TotalBsmtSF', 'Heating', 'HeatingQC', 'CentralAir', 'Electrical',\n",
    "       '1stFlrSF', '2ndFlrSF', 'LowQualFinSF', 'GrLivArea', 'BsmtFullBath',\n",
    "       'BsmtHalfBath', 'FullBath', 'HalfBath', 'BedroomAbvGr', 'KitchenAbvGr',\n",
    "       'KitchenQual', 'TotRmsAbvGrd', 'Functional', 'Fireplaces',\n",
    "       'FireplaceQu', 'GarageType', 'GarageYrBlt', 'GarageFinish',\n",
    "       'GarageCars', 'GarageArea', 'GarageQual', 'GarageCond', 'PavedDrive',\n",
    "       'WoodDeckSF', 'OpenPorchSF', 'EnclosedPorch', '3SsnPorch',\n",
    "       'ScreenPorch', 'PoolArea', 'PoolQC', 'Fence', 'MiscVal', 'YrSold',\n",
    "       'Distance_from_centre', 'Gar2', 'Othr', 'Shed', 'New', 'Abnorml',\n",
    "       'AdjLand', 'Alloca', 'Family', 'Normal', 'Partial'])\n",
    "    \n",
    "    preproc_col = set(preprocessed_ds.columns.tolist())\n",
    "    \n",
    "    missing_cols=list(X_from_feat_eng_col.difference(preproc_col))\n",
    "    extra_cols=list(preproc_col.difference(X_from_feat_eng_col))\n",
    "    \n",
    "    preprocessed_ds = preprocessed_ds.drop(extra_cols,axis=1)\n",
    "    for col in missing_cols:\n",
    "        preprocessed_ds[col] = 0\n",
    "    \n",
    "    #reorder columns\n",
    "    preprocessed_ds =preprocessed_ds[X_from_feat_eng_col]\n",
    "    \n",
    "    scaler = MinMaxScaler()\n",
    "    X_rescaled = scaler.fit_transform(preprocessed_ds)\n",
    "    X_rescaled = np.nan_to_num(X_rescaled, nan=0.0, posinf=None, neginf=None)\n",
    "    # load the PCA model\n",
    "    filename = 'models/pthp_pca.sav'\n",
    "    pthp_pca = pickle.load(open(filename, 'rb'))\n",
    "    \n",
    "    pca_reduced_ds=pthp_pca.transform(X_rescaled)\n",
    "    \n",
    "    return pca_reduced_ds"
   ]
  },
  {
   "cell_type": "markdown",
   "metadata": {},
   "source": [
    "### Feature selection through backward elimination"
   ]
  },
  {
   "cell_type": "code",
   "execution_count": 7,
   "metadata": {},
   "outputs": [],
   "source": [
    "def BE_feat_selection(preprocessed_ds):\n",
    "    selected_features_BE = ['MSSubClass', 'LotFrontage', 'LotArea', 'Condition2', 'OverallQual', 'OverallCond', 'YearBuilt', 'RoofMatl', 'Exterior1st', 'Exterior2nd', 'MasVnrArea', 'ExterQual', 'BsmtQual', 'BsmtCond', 'BsmtExposure', 'BsmtUnfSF', 'TotalBsmtSF', 'GrLivArea', 'BedroomAbvGr', 'KitchenAbvGr', 'KitchenQual', 'TotRmsAbvGrd', 'Functional', 'Fireplaces', 'GarageArea', 'ScreenPorch', 'PoolQC', 'New', 'Abnorml','SalePrice']\n",
    "    be_feat_selection = preprocessed_ds[selected_features_BE]\n",
    "    return be_feat_selection"
   ]
  },
  {
   "cell_type": "markdown",
   "metadata": {},
   "source": [
    "### Feature selection through recursive feature elimination"
   ]
  },
  {
   "cell_type": "code",
   "execution_count": 8,
   "metadata": {},
   "outputs": [],
   "source": [
    "def RFE_feat_selection(preprocessed_ds):\n",
    "    selected_features_rfe = ['LotArea', 'Condition2', 'OverallQual', 'RoofMatl', 'ExterQual',\n",
    "       'BsmtFinSF1', '1stFlrSF', '2ndFlrSF', 'BedroomAbvGr', 'KitchenAbvGr',\n",
    "       'TotRmsAbvGrd', 'GarageArea', 'PoolQC','SalePrice']\n",
    "    rfe_feat_selection = preprocessed_ds[selected_features_rfe]\n",
    "    return rfe_feat_selection"
   ]
  },
  {
   "cell_type": "markdown",
   "metadata": {},
   "source": [
    "### Feature selection through LassoCV"
   ]
  },
  {
   "cell_type": "code",
   "execution_count": 9,
   "metadata": {},
   "outputs": [],
   "source": [
    "def LassoCV_feat_selection(preprocessed_ds):\n",
    "    selected_features_lassocv = ['LotArea', 'YearBuilt', 'YearRemodAdd', 'MasVnrArea', 'BsmtFinSF1', 'BsmtFinSF2', 'BsmtUnfSF', \n",
    "                                 'TotalBsmtSF', '2ndFlrSF', 'GrLivArea', 'GarageArea', 'WoodDeckSF', 'MiscVal','SalePrice']\n",
    "    lassocv_feat_selection=preprocessed_ds[selected_features_lassocv]\n",
    "    return lassocv_feat_selection"
   ]
  }
 ],
 "metadata": {
  "kernelspec": {
   "display_name": "Python 3",
   "language": "python",
   "name": "python3"
  },
  "language_info": {
   "codemirror_mode": {
    "name": "ipython",
    "version": 3
   },
   "file_extension": ".py",
   "mimetype": "text/x-python",
   "name": "python",
   "nbconvert_exporter": "python",
   "pygments_lexer": "ipython3",
   "version": "3.7.6"
  }
 },
 "nbformat": 4,
 "nbformat_minor": 4
}
