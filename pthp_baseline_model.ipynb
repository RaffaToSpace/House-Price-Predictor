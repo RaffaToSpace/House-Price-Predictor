{
 "cells": [
  {
   "cell_type": "markdown",
   "metadata": {},
   "source": [
    "# Predicting the house price - baseline model\n",
    "\n",
    "In this notebook I am going to develop a regression model to be used as baseline to compare the performance of the models that I am trying to build an accurate predictor for the problem at hand."
   ]
  },
  {
   "cell_type": "code",
   "execution_count": 1,
   "metadata": {},
   "outputs": [],
   "source": [
    "import pandas as pd\n",
    "import numpy as np\n",
    "import matplotlib.pyplot as plt\n",
    "from sklearn.model_selection import train_test_split\n",
    "from sklearn.linear_model import LinearRegression\n",
    "from sklearn import metrics\n",
    "from statistics import mean\n",
    "from math import sqrt,log\n",
    "\n",
    "%matplotlib inline"
   ]
  },
  {
   "cell_type": "markdown",
   "metadata": {},
   "source": [
    "## Data import\n",
    "In this cell the datasets preprocessed and engineered in the other notebooks are imported. This is so that we can compare them with the same model."
   ]
  },
  {
   "cell_type": "code",
   "execution_count": 2,
   "metadata": {},
   "outputs": [],
   "source": [
    "#train data after cleaning as in p_h_p_data\n",
    "feat = pd.read_csv('data/Features_xy.csv')\n",
    "feat = feat.drop('Unnamed: 0',axis=1)\n",
    "feat=feat.dropna()\n",
    "X_feat = feat.drop(['Neighborhood','SalePrice'],axis=1)\n",
    "y_feat = feat['SalePrice']\n",
    "\n",
    "#test data after cleaning as in p_h_p_data\n",
    "test_feat = pd.read_csv('data/Test_Features_xy.csv')\n",
    "test_feat = test_feat.drop('Unnamed: 0',axis=1)\n",
    "\n",
    "#train data after selecting variables correlated to target\n",
    "feat_skimmed=pd.read_csv('data/Features_xy_skimmed.csv')\n",
    "feat_skimmed = feat_skimmed.drop('Unnamed: 0',axis=1)\n",
    "X_feat_skimmed=feat_skimmed.drop('SalePrice',axis=1)\n",
    "y_feat_skimmed=feat_skimmed['SalePrice']\n",
    "\n",
    "#train data after removing redundant variables, identified as those strongly correlated to other variables (DCV)\n",
    "feat_drop_corr_var=pd.read_csv('data/Features_xy_corr_drop.csv')\n",
    "feat_drop_corr_var = feat_drop_corr_var.drop('Unnamed: 0',axis=1)\n",
    "feat_drop_corr_var = feat_drop_corr_var.dropna()\n",
    "X_dcv = feat_drop_corr_var.drop(['Neighborhood','SalePrice'],axis=1)\n",
    "y_dcv = feat_drop_corr_var['SalePrice']\n",
    "\n",
    "#train data as transformed through PCA\n",
    "X_pca = np.genfromtxt('data/Feature_x_PCA.csv', delimiter=',')\n",
    "y_pca=pd.read_csv('data/train_y.csv')\n",
    "y_pca=y_pca.drop('Unnamed: 0',axis=1)\n",
    "\n",
    "#train data after selecting variables through backward elimination\n",
    "X_BE=pd.read_csv('data/BE_feat_x.csv')\n",
    "X_BE = X_BE.drop('Unnamed: 0',axis=1)\n",
    "y_BE=pd.read_csv('data/BE_train_y.csv')\n",
    "y_BE=y_BE.drop('Unnamed: 0',axis=1)\n",
    "\n",
    "#train data after selecting variables through recursive feature elimination\n",
    "X_RFE=pd.read_csv('data/Features_xy_RFE.csv')\n",
    "X_RFE = X_RFE.drop('Unnamed: 0',axis=1)\n",
    "y_RFE=X_RFE['SalePrice']\n",
    "X_RFE=X_RFE.drop('SalePrice',axis=1)\n",
    "\n",
    "#train data after selecting variables through LassoCV\n",
    "X_lassoCV=pd.read_csv('data/LassoCV_feat_X.csv')\n",
    "X_lassoCV=X_lassoCV.drop('Unnamed: 0',axis=1)\n",
    "y_lassoCV=pd.read_csv('data/LassoCV_train_y.csv')\n",
    "y_lassoCV=y_lassoCV.drop('Unnamed: 0',axis=1)"
   ]
  },
  {
   "cell_type": "code",
   "execution_count": 3,
   "metadata": {},
   "outputs": [],
   "source": [
    "dataset = [['Standard dataset',X_feat,y_feat],\n",
    "           ['T_corr',X_feat_skimmed,y_feat_skimmed],\n",
    "           ['DCV',X_dcv,y_dcv],\n",
    "           ['PCA',X_pca,y_pca],\n",
    "           ['BE',X_BE,y_BE],\n",
    "           ['RFE',X_RFE,y_RFE],\n",
    "           ['LassoCV',X_lassoCV,y_lassoCV]\n",
    "          ]"
   ]
  },
  {
   "cell_type": "markdown",
   "metadata": {},
   "source": [
    "## Linear regression model and custom score method\n",
    "\n",
    "The kaggle competition uses a custom metric defined as:  \n",
    "**RMSE**(_log(y_pred) - log(y_true)_)\n",
    "\n",
    "RMSE : root mean squared error  \n",
    "y_pred: predicted target values  \n",
    "y_true: true target values\n",
    "\n",
    "For this reason I am making a predictor that estimates the logarithm of the target, and then I apply an exponential function for comparison."
   ]
  },
  {
   "cell_type": "code",
   "execution_count": 4,
   "metadata": {},
   "outputs": [],
   "source": [
    "# log prediction\n",
    "def lin_reg(X,y,data_name,rnd):\n",
    "    X_train, X_test, y_train, y_test = train_test_split(X, y, test_size=0.2, random_state=rnd)\n",
    "    LR = LinearRegression()\n",
    "    LR.fit(X_train, np.log(y_train))\n",
    "    y_pred = LR.predict(X_test)\n",
    "\n",
    "    r2 = metrics.r2_score(y_test, np.exp(y_pred))\n",
    "    mae = metrics.mean_absolute_error(y_test, np.exp(y_pred))\n",
    "    lRMSE=0\n",
    "    try:\n",
    "        #lRMSE = sqrt(metrics.mean_squared_error(y_test, np.exp(y_pred)))\n",
    "        lRMSE = sqrt(metrics.mean_squared_error(np.log(y_test), y_pred))\n",
    "    except ValueError:\n",
    "        y_pred = np.absolute(y_pred)\n",
    "        #lRMSE = sqrt(metrics.mean_squared_error(y_test, np.exp(y_pred)))\n",
    "        lRMSE = sqrt(metrics.mean_squared_error(np.log(y_test), y_pred))\n",
    "    return r2,mae,lRMSE"
   ]
  },
  {
   "cell_type": "code",
   "execution_count": 5,
   "metadata": {},
   "outputs": [],
   "source": [
    "scores = pd.DataFrame(index=['R2', 'MAE','RMSE of logs'])\n",
    "rdn_states = np.arange(0,30,1)\n",
    "\n",
    "for item in dataset:\n",
    "    r2_l = []\n",
    "    mae_l = []\n",
    "    lRMSE_l = []\n",
    "    for rdn in rdn_states:\n",
    "        data_name=item[0]\n",
    "        X = item[1]\n",
    "        y = item[2]\n",
    "        r2,mae,lRMSE = lin_reg(X,y,data_name,rdn)\n",
    "        r2_l.append(r2)\n",
    "        mae_l.append(mae)\n",
    "        lRMSE_l.append(lRMSE)\n",
    "        \n",
    "    r2_av=mean(r2_l)\n",
    "    mae_av=mean(mae_l)\n",
    "    lRMSE_l_av=mean(lRMSE_l)\n",
    "    scores.loc['R2',data_name]=r2_av\n",
    "    scores.loc['MAE',data_name]=mae_av\n",
    "    scores.loc['RMSE of logs',data_name]=lRMSE_l_av\n",
    "    "
   ]
  },
  {
   "cell_type": "code",
   "execution_count": 6,
   "metadata": {},
   "outputs": [
    {
     "data": {
      "text/html": [
       "<div>\n",
       "<style scoped>\n",
       "    .dataframe tbody tr th:only-of-type {\n",
       "        vertical-align: middle;\n",
       "    }\n",
       "\n",
       "    .dataframe tbody tr th {\n",
       "        vertical-align: top;\n",
       "    }\n",
       "\n",
       "    .dataframe thead th {\n",
       "        text-align: right;\n",
       "    }\n",
       "</style>\n",
       "<table border=\"1\" class=\"dataframe\">\n",
       "  <thead>\n",
       "    <tr style=\"text-align: right;\">\n",
       "      <th></th>\n",
       "      <th>Standard dataset</th>\n",
       "      <th>T_corr</th>\n",
       "      <th>DCV</th>\n",
       "      <th>PCA</th>\n",
       "      <th>BE</th>\n",
       "      <th>RFE</th>\n",
       "      <th>LassoCV</th>\n",
       "    </tr>\n",
       "  </thead>\n",
       "  <tbody>\n",
       "    <tr>\n",
       "      <th>R2</th>\n",
       "      <td>0.749884</td>\n",
       "      <td>0.808141</td>\n",
       "      <td>0.596846</td>\n",
       "      <td>0.821675</td>\n",
       "      <td>0.756041</td>\n",
       "      <td>0.733831</td>\n",
       "      <td>0.663452</td>\n",
       "    </tr>\n",
       "    <tr>\n",
       "      <th>MAE</th>\n",
       "      <td>17633.436160</td>\n",
       "      <td>18979.320433</td>\n",
       "      <td>18106.711365</td>\n",
       "      <td>17578.744380</td>\n",
       "      <td>16900.529438</td>\n",
       "      <td>19665.104903</td>\n",
       "      <td>21173.189760</td>\n",
       "    </tr>\n",
       "    <tr>\n",
       "      <th>RMSE of logs</th>\n",
       "      <td>0.138429</td>\n",
       "      <td>0.153231</td>\n",
       "      <td>0.153221</td>\n",
       "      <td>0.140570</td>\n",
       "      <td>0.133307</td>\n",
       "      <td>0.166188</td>\n",
       "      <td>0.164093</td>\n",
       "    </tr>\n",
       "  </tbody>\n",
       "</table>\n",
       "</div>"
      ],
      "text/plain": [
       "              Standard dataset        T_corr           DCV           PCA  \\\n",
       "R2                    0.749884      0.808141      0.596846      0.821675   \n",
       "MAE               17633.436160  18979.320433  18106.711365  17578.744380   \n",
       "RMSE of logs          0.138429      0.153231      0.153221      0.140570   \n",
       "\n",
       "                        BE           RFE       LassoCV  \n",
       "R2                0.756041      0.733831      0.663452  \n",
       "MAE           16900.529438  19665.104903  21173.189760  \n",
       "RMSE of logs      0.133307      0.166188      0.164093  "
      ]
     },
     "execution_count": 6,
     "metadata": {},
     "output_type": "execute_result"
    }
   ],
   "source": [
    "scores"
   ]
  },
  {
   "cell_type": "markdown",
   "metadata": {},
   "source": [
    "### Plot of (y_test−y_pred  VS y_test)"
   ]
  },
  {
   "cell_type": "code",
   "execution_count": 71,
   "metadata": {},
   "outputs": [],
   "source": [
    "def lin_reg_res(X,y,rnd):\n",
    "    X_train, X_test, y_train, y_test = train_test_split(X, y, test_size=0.2, random_state=rnd)\n",
    "    LR = LinearRegression()\n",
    "    LR.fit(X_train, np.log(y_train))\n",
    "    y_pred = LR.predict(X_test)\n",
    "\n",
    "    \n",
    "    return y_test, np.exp(y_pred)"
   ]
  },
  {
   "cell_type": "code",
   "execution_count": 72,
   "metadata": {},
   "outputs": [
    {
     "data": {
      "text/plain": [
       "Text(0.5, 0, 'y_test')"
      ]
     },
     "execution_count": 72,
     "metadata": {},
     "output_type": "execute_result"
    },
    {
     "data": {
      "image/png": "[encoded data removed]",
      "text/plain": [
       "<Figure size 432x288 with 1 Axes>"
      ]
     },
     "metadata": {
      "needs_background": "light"
     },
     "output_type": "display_data"
    }
   ],
   "source": [
    "#STD\n",
    "y_test, y_pred = lin_reg_res(X_feat,y_feat,1)\n",
    "plt.scatter(y_test,(y_test - y_pred))\n",
    "plt.ylabel('y_test - y_pred')\n",
    "plt.xlabel('y_test')"
   ]
  },
  {
   "cell_type": "code",
   "execution_count": 73,
   "metadata": {},
   "outputs": [
    {
     "data": {
      "text/plain": [
       "Text(0.5, 0, 'y_test')"
      ]
     },
     "execution_count": 73,
     "metadata": {},
     "output_type": "execute_result"
    },
    {
     "data": {
      "image/png": "[encoded data removed]",
      "text/plain": [
       "<Figure size 432x288 with 1 Axes>"
      ]
     },
     "metadata": {
      "needs_background": "light"
     },
     "output_type": "display_data"
    }
   ],
   "source": [
    "#Backward elimination data\n",
    "y_test, y_pred = lin_reg_res(X_BE,y_BE,1)\n",
    "plt.scatter(y_test,(y_test - y_pred))\n",
    "plt.ylabel('y_test - y_pred')\n",
    "plt.xlabel('y_test')"
   ]
  },
  {
   "cell_type": "code",
   "execution_count": 74,
   "metadata": {},
   "outputs": [
    {
     "data": {
      "text/plain": [
       "Text(0.5, 0, 'y_test')"
      ]
     },
     "execution_count": 74,
     "metadata": {},
     "output_type": "execute_result"
    },
    {
     "data": {
      "image/png": "[encoded data removed]",
      "text/plain": [
       "<Figure size 432x288 with 1 Axes>"
      ]
     },
     "metadata": {
      "needs_background": "light"
     },
     "output_type": "display_data"
    }
   ],
   "source": [
    "#PCA\n",
    "y_test, y_pred = lin_reg_res(X_pca,y_pca,1)\n",
    "plt.scatter(y_test,(y_test - y_pred))\n",
    "plt.ylabel('y_test - y_pred')\n",
    "plt.xlabel('y_test')"
   ]
  },
  {
   "cell_type": "code",
   "execution_count": null,
   "metadata": {},
   "outputs": [],
   "source": []
  }
 ],
 "metadata": {
  "kernelspec": {
   "display_name": "Python 3",
   "language": "python",
   "name": "python3"
  },
  "language_info": {
   "codemirror_mode": {
    "name": "ipython",
    "version": 3
   },
   "file_extension": ".py",
   "mimetype": "text/x-python",
   "name": "python",
   "nbconvert_exporter": "python",
   "pygments_lexer": "ipython3",
   "version": "3.7.6"
  }
 },
 "nbformat": 4,
 "nbformat_minor": 4
}
